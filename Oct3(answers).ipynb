{
 "cells": [
  {
   "cell_type": "markdown",
   "id": "9b09c379",
   "metadata": {},
   "source": [
    "# TTR code\n",
    "\n",
    "Below is the code for calculating standardized TTR from lecture. What parts of it would you like to understand better? "
   ]
  },
  {
   "cell_type": "code",
   "execution_count": null,
   "id": "699824e8",
   "metadata": {},
   "outputs": [],
   "source": [
    "import re\n",
    "from pathlib import Path\n",
    "\n",
    "folder_path = \"sot4chaps\"\n",
    "\n",
    "sample_size = 0\n",
    "\n",
    "file = open(\"ttr-overall.csv\", mode=\"w\", encoding=\"utf-8\")\n",
    "\n",
    "file.write('\"Text\",\"Types\",\"Tokens\",\"TTR\"\\n')\n",
    "\n",
    "for file_path in sorted(Path(folder_path).glob('*.txt')):\n",
    "    \n",
    "    text = open(file_path, encoding='utf-8').read()\n",
    "    text = re.sub(\"[^a-zA-Z0-9]\", \" \", text)\n",
    "    \n",
    "    text_words = text.split()\n",
    "    tokens = len(text_words)\n",
    "    \n",
    "    if sample_size == 0 or tokens < sample_size:\n",
    "        sample_size = tokens\n",
    "    \n",
    "    unique_words = []\n",
    "    \n",
    "    for word in text_words:\n",
    "        word = word.lower()\n",
    "        if word not in unique_words:\n",
    "            unique_words.append(word)\n",
    "            \n",
    "    types = len(unique_words)\n",
    "    \n",
    "    ttr = (types / tokens) * 100\n",
    "    \n",
    "    file.write(f'\"{file_path.stem}\",{types},{tokens},{ttr}\\n')\n",
    "\n",
    "file.close()\n",
    "\n",
    "\n",
    "\n",
    "file = open(\"ttr-standardized.csv\", mode=\"w\", encoding=\"utf-8\")\n",
    "\n",
    "file.write('\"Text\",\"Types\",\"Tokens\",\"TTR\"\\n')\n",
    "\n",
    "for file_path in sorted(Path(folder_path).glob('*.txt')):\n",
    "    text = open(file_path, encoding='utf-8').read()\n",
    "    text = re.sub(\"[^a-zA-Z0-9]\", \" \", text)\n",
    "    \n",
    "    text_words = text.split()\n",
    "    text_words_standardized = text_words[:sample_size]\n",
    "    tokens_standardized = len(text_words_standardized)\n",
    "\n",
    "    unique_words_standardized = []\n",
    "    \n",
    "    for word in text_words_standardized:\n",
    "        word = word.lower()\n",
    "        if word not in unique_words_standardized:\n",
    "            unique_words_standardized.append(word)\n",
    "            \n",
    "    types_standardized = len(unique_words_standardized)\n",
    "    \n",
    "    ttr_standardized = (types_standardized / tokens_standardized) * 100\n",
    "    \n",
    "    file.write(f'\"{file_path.stem}\",{types_standardized},{tokens_standardized},{ttr_standardized}\\n')\n",
    "\n",
    "file.close()"
   ]
  },
  {
   "cell_type": "markdown",
   "id": "785b13f5",
   "metadata": {},
   "source": [
    "Use this space for notes\n",
    "\n",
    "-\n",
    "-\n",
    "-\n",
    "-\n",
    "-\n",
    "-\n",
    "-\n",
    "\n",
    "\n",
    "\n"
   ]
  },
  {
   "cell_type": "markdown",
   "id": "32a59f2f",
   "metadata": {},
   "source": [
    "## Getting standardized length"
   ]
  },
  {
   "cell_type": "code",
   "execution_count": null,
   "id": "f5789bca",
   "metadata": {},
   "outputs": [],
   "source": [
    "sample_size = 0\n",
    "\n",
    "for file_path in sorted(Path(folder_path).glob('*.txt')):\n",
    "    \n",
    "    # some code in between \n",
    "    \n",
    "    if sample_size == 0 or tokens < sample_size:\n",
    "        sample_size = tokens"
   ]
  },
  {
   "cell_type": "markdown",
   "id": "f596ef46",
   "metadata": {},
   "source": [
    "If you're confused about what the last two lines of code are doing in the above block, consider the following example. What will the variable `world_record` contain in the end, after the for loop has run?"
   ]
  },
  {
   "cell_type": "code",
   "execution_count": null,
   "id": "8a570653",
   "metadata": {},
   "outputs": [],
   "source": [
    "world_record = 0\n",
    "\n",
    "runs = [15.5, 14.3, 15.1, 13.9, 13.8, 14.0, 12.2, 12.5]\n",
    "\n",
    "\n",
    "for time in runs:\n",
    "    if world_record == 0 or time < world_record:\n",
    "        world_record = time"
   ]
  },
  {
   "cell_type": "markdown",
   "id": "0181bf81",
   "metadata": {},
   "source": [
    "**Discussion:** Say we are finding the world record for something like the 100 meter dash. Before anyone records a time, there is no world record. We begin by setting the placeholder value for ``world_record``, which is 0, since no time will ever be 0. \n",
    "\n",
    "Whoever has the first recorded time will automatically be the new world record. Similarly, when the for loop begins running, world_record is already set to 0, so ``world_record == 0`` is true, and we execute ``world_record = time``, replacing ``world_record`` with the first time in the list ``runs``. This is the **only time** the ``world_record == 0`` is ever relevant, since afterwards it is never set to 0 again. \n",
    "\n",
    "Afterwards, we move on to the next time, and check if it's less than the current world record. If it is, then it becomes the new world record, and we update the value of ``world_record``! If it's not less than the current world record, then nothing happens. "
   ]
  },
  {
   "cell_type": "markdown",
   "id": "77d07f93",
   "metadata": {},
   "source": [
    "# Midterm Review\n",
    "\n",
    "(I included some of the questions from the Sept. 26 notes)\n",
    "\n",
    "How to review for the midterm? \n",
    "- Clear your lab/homework notebooks and work through them from scratch (click `Cell` in the menu above, go down to `All Outputs` and click `Clear`)\n",
    "- Copy and paste important bits of code into a separate document for reference. Add comments so you know what each bit does!\n",
    "\n",
    "\n",
    "\n",
    "\n",
    "\n",
    "The site https://open.cs.uwaterloo.ca/python-from-scratch/ has some really good practice. The most relevant modules to our course are 0, 1, 2, 3, 5, 6, 9, and 10, although they do cover some concepts that are out of scope for our course. "
   ]
  },
  {
   "cell_type": "markdown",
   "id": "b6065284",
   "metadata": {},
   "source": [
    "## Week 1\n",
    "### Question 1\n",
    "Describe what the following line of code does."
   ]
  },
  {
   "cell_type": "code",
   "execution_count": null,
   "id": "3e40846c",
   "metadata": {
    "scrolled": false
   },
   "outputs": [],
   "source": [
    "number = 42"
   ]
  },
  {
   "cell_type": "markdown",
   "id": "a240248b",
   "metadata": {},
   "source": [
    "Assume we have run the above line of code. What are the errors in the following pieces of code?"
   ]
  },
  {
   "cell_type": "code",
   "execution_count": null,
   "id": "76deb431",
   "metadata": {},
   "outputs": [],
   "source": [
    "print (number)"
   ]
  },
  {
   "cell_type": "code",
   "execution_count": null,
   "id": "e58056c6",
   "metadata": {},
   "outputs": [],
   "source": [
    "print[number]"
   ]
  },
  {
   "cell_type": "code",
   "execution_count": null,
   "id": "e0dde8a2",
   "metadata": {},
   "outputs": [],
   "source": [
    "print(Number)"
   ]
  },
  {
   "cell_type": "code",
   "execution_count": null,
   "id": "11905918",
   "metadata": {},
   "outputs": [],
   "source": [
    "prnt(number)"
   ]
  },
  {
   "cell_type": "markdown",
   "id": "517b0770",
   "metadata": {},
   "source": [
    "### Question 2\n",
    "\n",
    "Declare the following variables:\n",
    "\n",
    "- a variable named ``num2`` containing a float value\n",
    "- a variable named ``greater_than_50`` containing a boolean that tests if ``num2`` is greater than 50\n",
    "- a variable named ``list_of_strings`` containing a list of strings and satisfying ``len(list_of_strings) < 4``"
   ]
  },
  {
   "cell_type": "code",
   "execution_count": null,
   "id": "1406fbea",
   "metadata": {},
   "outputs": [],
   "source": [
    "# Sample answer:\n",
    "\n",
    "num2 = 2.71828\n",
    "greater_than_50 = num2 > 50\n",
    "list_of_strings = ['calico', 'siamese', 'shorthair']"
   ]
  },
  {
   "cell_type": "markdown",
   "id": "0170ac1d",
   "metadata": {},
   "source": [
    "## Week 2"
   ]
  },
  {
   "cell_type": "code",
   "execution_count": null,
   "id": "f5495f0b",
   "metadata": {},
   "outputs": [],
   "source": [
    "random_list = [3, \"blue\", [\"a\", \"b\", \"c\"], True, [\"up\", \"down\", \"left\", \"right\"], 5.5, \"word\"]"
   ]
  },
  {
   "cell_type": "markdown",
   "id": "145a4128",
   "metadata": {},
   "source": [
    "### Question 3\n",
    "Predict what each line of code will output, then run the cell to check if you are right. "
   ]
  },
  {
   "cell_type": "code",
   "execution_count": null,
   "id": "a02bfe1a",
   "metadata": {},
   "outputs": [],
   "source": [
    "type(random_list[2])"
   ]
  },
  {
   "cell_type": "code",
   "execution_count": null,
   "id": "dade7c4d",
   "metadata": {},
   "outputs": [],
   "source": [
    "type(random_list[2])"
   ]
  },
  {
   "cell_type": "code",
   "execution_count": null,
   "id": "f55b70bf",
   "metadata": {},
   "outputs": [],
   "source": [
    "type(random_list[-1])"
   ]
  },
  {
   "cell_type": "code",
   "execution_count": null,
   "id": "c8f5efe5",
   "metadata": {},
   "outputs": [],
   "source": [
    "len(random_list[4])"
   ]
  },
  {
   "cell_type": "code",
   "execution_count": null,
   "id": "0620dc67",
   "metadata": {},
   "outputs": [],
   "source": [
    "type(random_list[3])"
   ]
  },
  {
   "cell_type": "code",
   "execution_count": null,
   "id": "e3ec84a0",
   "metadata": {},
   "outputs": [],
   "source": [
    "len(random_list[1])"
   ]
  },
  {
   "cell_type": "code",
   "execution_count": null,
   "id": "6e8d24b9",
   "metadata": {},
   "outputs": [],
   "source": [
    "len(random_list[:3])"
   ]
  },
  {
   "cell_type": "code",
   "execution_count": null,
   "id": "9a48d418",
   "metadata": {},
   "outputs": [],
   "source": [
    "len(random_list[-3:])"
   ]
  },
  {
   "cell_type": "markdown",
   "id": "9dd70d07",
   "metadata": {},
   "source": [
    "### Question 4\n",
    "\n",
    "Does it matter if I use single quotes or double quotes to write a string?"
   ]
  },
  {
   "cell_type": "code",
   "execution_count": null,
   "id": "06e1e227",
   "metadata": {},
   "outputs": [],
   "source": [
    "'a' == \"a\""
   ]
  },
  {
   "cell_type": "markdown",
   "id": "1f592e72",
   "metadata": {},
   "source": [
    "(Answer: it doesn't matter! I can use either single or double quotes to write a string.)"
   ]
  },
  {
   "cell_type": "markdown",
   "id": "aa31ad15",
   "metadata": {},
   "source": [
    "## Week 3"
   ]
  },
  {
   "cell_type": "markdown",
   "id": "48b4fef3",
   "metadata": {},
   "source": [
    "\"+\" is an operator. It takes two things on either side and outputs a new value."
   ]
  },
  {
   "cell_type": "code",
   "execution_count": null,
   "id": "cf1585a1",
   "metadata": {},
   "outputs": [],
   "source": [
    "2 + 2"
   ]
  },
  {
   "cell_type": "markdown",
   "id": "35b6b77a",
   "metadata": {},
   "source": [
    "### Question 5\n",
    "`==` is also an operator. What data type does it output? What is the difference between the following two lines of code? "
   ]
  },
  {
   "cell_type": "code",
   "execution_count": null,
   "id": "6804f0d3",
   "metadata": {},
   "outputs": [],
   "source": [
    "number = 20\n",
    "\n",
    "number == 20"
   ]
  },
  {
   "cell_type": "markdown",
   "id": "aa454de4",
   "metadata": {},
   "source": [
    "### and & or"
   ]
  },
  {
   "cell_type": "markdown",
   "id": "ae199363",
   "metadata": {},
   "source": [
    "Recall the rules of `and` and `or`:\n",
    "\n",
    "`A and B` is True only if both A is True and B is True.\n",
    "\n",
    "`A or B` is True if A is True, B is True, or both are True.\n",
    "\n",
    "|`A`|`B`|`A or B`|`A and B`|\n",
    "|:-|:-|:-|:-|\n",
    "|**True**|**True**|**True**|**True**|\n",
    "|**True**|False|**True**|False|\n",
    "|False|**True**|**True**|False|\n",
    "|False|False|False|False|"
   ]
  },
  {
   "cell_type": "markdown",
   "id": "e1522903",
   "metadata": {},
   "source": [
    "### Question 6\n",
    "Predict the following outputs, then run the cell to check."
   ]
  },
  {
   "cell_type": "code",
   "execution_count": null,
   "id": "c6a65107",
   "metadata": {},
   "outputs": [],
   "source": [
    "20 != \"20\""
   ]
  },
  {
   "cell_type": "code",
   "execution_count": null,
   "id": "f47058a2",
   "metadata": {},
   "outputs": [],
   "source": [
    "num1 = 10\n",
    "num2 = 200\n",
    "\n",
    "num1 == 40 and num1 <= num2"
   ]
  },
  {
   "cell_type": "code",
   "execution_count": null,
   "id": "c93ea3dd",
   "metadata": {},
   "outputs": [],
   "source": [
    "len('add this string' + 'to another') > num1"
   ]
  },
  {
   "cell_type": "code",
   "execution_count": null,
   "id": "5e4e3ccb",
   "metadata": {},
   "outputs": [],
   "source": [
    "num1 == num2 or num1 != num2"
   ]
  },
  {
   "cell_type": "markdown",
   "id": "e4fe11c3",
   "metadata": {},
   "source": [
    "### Question 7\n",
    "\n",
    "What are **all the possible values** of `thing1`, `thing2`, `thing3`, and `thing4` below that will make the following statements print `True`? Note: this is a rather difficult question, don't worry if you have trouble with it.\n",
    "\n",
    "**Answer:** See Sept. 26 answers for discussion."
   ]
  },
  {
   "cell_type": "code",
   "execution_count": null,
   "id": "194f9a11",
   "metadata": {},
   "outputs": [],
   "source": [
    "thing1 = \n",
    "\n",
    "print(5 != 2 or thing1 == 'cat')"
   ]
  },
  {
   "cell_type": "code",
   "execution_count": null,
   "id": "292ffa2a",
   "metadata": {},
   "outputs": [],
   "source": [
    "thing2 = \n",
    "\n",
    "print(thing2 == 'dog' and type(20.0) == float)"
   ]
  },
  {
   "cell_type": "code",
   "execution_count": null,
   "id": "3225919e",
   "metadata": {},
   "outputs": [],
   "source": [
    "thing3 = \n",
    "\n",
    "print(thing3 == 'aardvark' and 4 < 0)"
   ]
  },
  {
   "cell_type": "code",
   "execution_count": null,
   "id": "8a6067fe",
   "metadata": {},
   "outputs": [],
   "source": [
    "thing4 = \n",
    "\n",
    "print(not thing4 == 3.141 or type(thing4) == int)"
   ]
  },
  {
   "cell_type": "markdown",
   "id": "47feb444",
   "metadata": {},
   "source": [
    "### Question 8\n",
    "Explain what the code block below is doing. Try putting in different **strings** for `word1` and `word2`, then running the cell to see the result. \n",
    "\n",
    "**What happens if word1 and word2 contain the same value?** Predict what will happen before you test this scenario. Add to the code so that it prints something when this situation occurs.\n",
    "\n",
    "**Answer:** See Sept. 26 answers for discussion."
   ]
  },
  {
   "cell_type": "code",
   "execution_count": null,
   "id": "0a63a2d8",
   "metadata": {},
   "outputs": [],
   "source": [
    "word1 = 'aardvark'\n",
    "word2 = 'zorilla'\n",
    "\n",
    "if word1 < word2:\n",
    "    print(f\"The word {word1} comes before the word {word2} in the dictionary.\")\n",
    "elif word1 > word2:\n",
    "    print(f\"The word {word1} comes after the word {word2} in the dictionary.\")"
   ]
  },
  {
   "cell_type": "markdown",
   "id": "043ce718",
   "metadata": {},
   "source": [
    "## Week 4"
   ]
  },
  {
   "cell_type": "markdown",
   "id": "9c4cbde5",
   "metadata": {},
   "source": [
    "### Question 9\n",
    "The code below has an error. If you can't find it, try running it and looking at what the error message says. Correct it and predict the output."
   ]
  },
  {
   "cell_type": "code",
   "execution_count": null,
   "id": "0a01e8e9",
   "metadata": {
    "scrolled": true
   },
   "outputs": [],
   "source": [
    "fruits_list = [\"banana\", \"pineapple\", \"coconut\", \"strawberry\", \"watermelon\", \"grape\"]\n",
    "\n",
    "for fruit in fruits_list:\n",
    "print(fruit)"
   ]
  },
  {
   "cell_type": "code",
   "execution_count": 1,
   "id": "4cb58b34",
   "metadata": {},
   "outputs": [
    {
     "name": "stdout",
     "output_type": "stream",
     "text": [
      "banana\n",
      "pineapple\n",
      "coconut\n",
      "strawberry\n",
      "watermelon\n",
      "grape\n"
     ]
    }
   ],
   "source": [
    "# Answer: need to indent first line in a for loop\n",
    "\n",
    "fruits_list = [\"banana\", \"pineapple\", \"coconut\", \"strawberry\", \"watermelon\", \"grape\"]\n",
    "\n",
    "for fruit in fruits_list:\n",
    "    print(fruit)"
   ]
  },
  {
   "cell_type": "markdown",
   "id": "f223feb8",
   "metadata": {},
   "source": [
    "### Question 10\n",
    "\n",
    "Use a for loop to create a new list containing all of the elements of ``list_of_things`` **with only the strings**."
   ]
  },
  {
   "cell_type": "code",
   "execution_count": 2,
   "id": "8eb715e7",
   "metadata": {},
   "outputs": [
    {
     "name": "stdout",
     "output_type": "stream",
     "text": [
      "['pumpkin', 'okra', 'cucumber', 'tomato', 'a']\n"
     ]
    }
   ],
   "source": [
    "list_of_things = [4, 5, 'pumpkin', 0, 'okra', -5, 'cucumber', 'tomato', 0.5, False, 1, 'a']\n",
    "\n",
    "only_strings = []\n",
    "\n",
    "for thing in list_of_things:\n",
    "    if type(thing) == str:\n",
    "        only_strings.append(thing)\n",
    "\n",
    "print(only_strings)"
   ]
  },
  {
   "cell_type": "markdown",
   "id": "6ee1d5e3",
   "metadata": {},
   "source": [
    "Use a for loop to create a new list containing all of the elements of ``list_of_things`` **without the integers**."
   ]
  },
  {
   "cell_type": "code",
   "execution_count": 4,
   "id": "473ba3c1",
   "metadata": {},
   "outputs": [
    {
     "name": "stdout",
     "output_type": "stream",
     "text": [
      "['pumpkin', 'okra', 'cucumber', 'tomato', 0.5, False, 'a']\n"
     ]
    }
   ],
   "source": [
    "list_of_things = [4, 5, 'pumpkin', 0, 'okra', -5, 'cucumber', 'tomato', 0.5, False, 1, 'a']\n",
    "\n",
    "no_integers = []\n",
    "\n",
    "for thing in list_of_things:\n",
    "    if type(thing) != int:\n",
    "        no_integers.append(thing)\n",
    "\n",
    "print(no_integers)"
   ]
  },
  {
   "cell_type": "markdown",
   "id": "d39e7e69",
   "metadata": {},
   "source": [
    "Use a for loop to create a new list containing the length of each string in `list_of_colours`. The output should be \n",
    "\n",
    "`[4, 10, 5, 3, 10, 10, 7]`"
   ]
  },
  {
   "cell_type": "code",
   "execution_count": 5,
   "id": "342e3624",
   "metadata": {},
   "outputs": [
    {
     "name": "stdout",
     "output_type": "stream",
     "text": [
      "[4, 10, 5, 3, 10, 10, 7]\n"
     ]
    }
   ],
   "source": [
    "list_of_colours = ['pink', 'chartreuse', 'umber', 'red', 'heliotrope', 'periwinkle', 'scarlet']\n",
    "\n",
    "list_of_lengths = []\n",
    "\n",
    "for colour in list_of_colours:\n",
    "    colour_length = len(colour)\n",
    "    list_of_lengths.append(colour_length)\n",
    "\n",
    "print(list_of_lengths)"
   ]
  },
  {
   "cell_type": "code",
   "execution_count": 6,
   "id": "1e0f10bb",
   "metadata": {},
   "outputs": [
    {
     "name": "stdout",
     "output_type": "stream",
     "text": [
      "[4, 10, 5, 3, 10, 10, 7]\n"
     ]
    }
   ],
   "source": [
    "# Alternative answer:\n",
    "\n",
    "list_of_colours = ['pink', 'chartreuse', 'umber', 'red', 'heliotrope', 'periwinkle', 'scarlet']\n",
    "\n",
    "list_of_lengths = []\n",
    "\n",
    "for colour in list_of_colours:\n",
    "    list_of_lengths.append(len(colour))\n",
    "\n",
    "print(list_of_lengths)"
   ]
  },
  {
   "cell_type": "markdown",
   "id": "f41f03fc",
   "metadata": {},
   "source": [
    "### Question 11\n",
    "\n",
    "What does the code below do? What number will \"mystery_number\" contain?"
   ]
  },
  {
   "cell_type": "code",
   "execution_count": 7,
   "id": "b1beb0a5",
   "metadata": {},
   "outputs": [
    {
     "name": "stdout",
     "output_type": "stream",
     "text": [
      "10\n"
     ]
    }
   ],
   "source": [
    "number_list = [1, 2, 3, 4]\n",
    "mystery_number = 0\n",
    "\n",
    "for item in number_list:\n",
    "    mystery_number = mystery_number + item\n",
    "\n",
    "print(mystery_number)"
   ]
  },
  {
   "cell_type": "markdown",
   "id": "06f0f058",
   "metadata": {},
   "source": [
    "**Answer:** After running the code, ``mystery_number`` contains 10. For every number in the list, we add that number to ``mystery_number``, then make that the new value of ``mystery_number``. In the end, ``mystery_number`` contains the sum of all the numbers in the list. "
   ]
  },
  {
   "cell_type": "markdown",
   "id": "d3a12c9b",
   "metadata": {},
   "source": [
    "### Question 12\n",
    "What does the list in the new_list variable look like after running the following code? Run the code to check your answer. "
   ]
  },
  {
   "cell_type": "code",
   "execution_count": null,
   "id": "f6c0afc3",
   "metadata": {},
   "outputs": [],
   "source": [
    "list_of_stuff = [\"a\", 42, \"newspaper\", False, [2.71828, 0], 10, [1, 2, 3], \"literature\", 12, \\\n",
    "                 \"word\", [\"mathematics\", \"math\"], 11]\n",
    "\n",
    "new_list = []\n",
    "\n",
    "for item in list_of_stuff: # iterate through list_of_stuff, calling each element in the list \"item\"\n",
    "    if type(item) == int: # check if item is an integer\n",
    "        new_list.append(item) # if the item is an integer, then add it to new_list\n",
    "    elif type(item) == str and len(item) > 4:\n",
    "        new_list.append(item)\n",
    "    elif type(item) == list and type(item[1]) == int:\n",
    "        new_list.append(item)\n",
    "\n",
    "print(new_list)"
   ]
  },
  {
   "cell_type": "markdown",
   "id": "0e064e45",
   "metadata": {},
   "source": [
    "### Question 13\n",
    "\n",
    "What kind of object is `.strip()`? Run the code below, then think about:\n",
    "- What kinds of input does `.strip()` take? \n",
    "- What data type does it return?"
   ]
  },
  {
   "cell_type": "code",
   "execution_count": null,
   "id": "b3f42d3f",
   "metadata": {},
   "outputs": [],
   "source": [
    "line = \"    This is a line.     \"\n",
    "stripped_line = line.strip()\n",
    "print(stripped_line)"
   ]
  },
  {
   "cell_type": "markdown",
   "id": "a551b014",
   "metadata": {},
   "source": [
    "**Answer:** ``.strip()`` is a string method, which takes in a string (``line``, in this case), and outputs the string with all the whitespace at the front and beginning removed."
   ]
  },
  {
   "cell_type": "markdown",
   "id": "c7c0874e",
   "metadata": {},
   "source": [
    "### Question 14\n",
    "What kind of object is `.isnumeric()`? Run the code below, then think about:\n",
    "- What kinds of input does `.isnumeric()` take? \n",
    "- What data type does it return?"
   ]
  },
  {
   "cell_type": "code",
   "execution_count": null,
   "id": "c6d3e0e9",
   "metadata": {},
   "outputs": [],
   "source": [
    "string = \"2718281829\"\n",
    "print(string.isnumeric())"
   ]
  },
  {
   "cell_type": "markdown",
   "id": "be3f53be",
   "metadata": {},
   "source": [
    "**Answer:** ``.isnumeric()`` is a string method, which takes in a string, and outputs a boolean value. The output is ``True`` if all of the characters in the string are numbers, and ``False`` if any characters are not numbers. "
   ]
  },
  {
   "cell_type": "markdown",
   "id": "3e89ae05",
   "metadata": {},
   "source": [
    "### Question 15\n",
    "\n",
    "Consider the following example (that I didn't have time for last week). I want to count the number of lines in the poem Song of Myself by Walt Whitman. Describe what each line below is doing. "
   ]
  },
  {
   "cell_type": "code",
   "execution_count": 10,
   "id": "52734d0a",
   "metadata": {},
   "outputs": [
    {
     "data": {
      "text/plain": [
       "['1',\n",
       " '  I celebrate myself, and sing myself,',\n",
       " '  And what I assume you shall assume,',\n",
       " '  For every atom belonging to me as good belongs to you.',\n",
       " '',\n",
       " '  I loafe and invite my soul,',\n",
       " '  I lean and loafe at my ease observing a spear of summer grass.',\n",
       " '',\n",
       " '  My tongue, every atom of my blood, form’d from this soil, this air,',\n",
       " '  Born here of parents born here from parents the same, and their',\n",
       " '      parents the same,',\n",
       " '  I, now thirty-seven years old in perfect health begin,',\n",
       " '  Hoping to cease not till death.',\n",
       " '',\n",
       " '  Creeds and schools in abeyance,',\n",
       " '  Retiring back a while sufficed at what they are, but never forgotten,',\n",
       " '  I harbor for good or bad, I permit to speak at every hazard,',\n",
       " '  Nature without check with original energy.',\n",
       " '',\n",
       " '       2',\n",
       " '  Houses and rooms are full of perfumes, the shelves are crowded with',\n",
       " '      perfumes,',\n",
       " '  I breathe the fragrance myself and know it and like it,',\n",
       " '  The distillation would intoxicate me also, but I shall not let it.',\n",
       " '',\n",
       " '  The atmosphere is not a perfume, it has no taste of the',\n",
       " '      distillation, it is odorless,',\n",
       " '  It is for my mouth forever, I am in love with it,',\n",
       " '  I will go to the bank by the wood and become undisguised and naked,',\n",
       " '  I am mad for it to be in contact with me.']"
      ]
     },
     "execution_count": 10,
     "metadata": {},
     "output_type": "execute_result"
    }
   ],
   "source": [
    "poem = open(\"song_of_myself.txt\", encoding=\"utf-8\").read()\n",
    "poem_lines = poem.split(\"\\n\")\n",
    "poem_lines[:30]"
   ]
  },
  {
   "cell_type": "markdown",
   "id": "6d852036",
   "metadata": {},
   "source": [
    "What are the three problems with counting lines using `poem_lines`? Try to understand how the following code corrects each problem."
   ]
  },
  {
   "cell_type": "code",
   "execution_count": null,
   "id": "6936467c",
   "metadata": {},
   "outputs": [],
   "source": [
    "poem_lines_nonempty = []\n",
    "\n",
    "for line in poem_lines:\n",
    "    if line != '':\n",
    "        poem_lines_nonempty.append(line)\n",
    "\n",
    "        \n",
    "poem_lines_no_numbers = []\n",
    "\n",
    "for line in poem_lines_nonempty:\n",
    "    stripped_line = line.strip()\n",
    "    if stripped_line.isnumeric() == False:   #I can also write this line as \"if not stripped_line.isnumeric()\"\n",
    "        poem_lines_no_numbers.append(line)\n",
    "\n",
    "        \n",
    "poem_lines_final = []\n",
    "\n",
    "for line in poem_lines_no_numbers:\n",
    "    if line[:5] != '     ':\n",
    "        poem_lines_final.append(line)\n",
    "    else:\n",
    "        poem_lines_final[-1] = poem_lines_final[-1] + ' ' + line.strip()"
   ]
  },
  {
   "cell_type": "markdown",
   "id": "7d382d19",
   "metadata": {},
   "source": [
    "**Answer:** The first for loop creates a new list of lines, with all the empty strings ``''`` removed. If the line is not an empty string, I add it to the new list poem_lines_nonempty.\n",
    "\n",
    "The second for loop removes all of the lines containing just numbers, which mark the sections of the poem. Since the lines with numbers contain whitespace at the beginning (such as ``'       2'``), I first used ``.strip()`` to remove the whitespace, then used ``.isnumeric()`` to check if the resulting line contained only numbers. I could also have just checked if the last character in the line is a numeral using the if statement below, ``if not line[-1].isnumeric():``.\n",
    "\n",
    "The last for loop combines the lines that have been split over two lines. For example, in the first section, note that ``'  Born here of parents born here from parents the same, and their'`` and ``'      parents the same,'`` are split onto different lines since the line is so long, but the longer whitespace (five spaces, to be exact) in the second line is meant to indicate that it's a continuation of the first line. Thus, I checked if the first five characters of the line were whitespace, and if so, I added that line to the last line of poem_lines_final. "
   ]
  },
  {
   "cell_type": "code",
   "execution_count": 11,
   "id": "f52248a5",
   "metadata": {},
   "outputs": [
    {
     "data": {
      "text/plain": [
       "['  I celebrate myself, and sing myself,',\n",
       " '  And what I assume you shall assume,',\n",
       " '  For every atom belonging to me as good belongs to you.',\n",
       " '  I loafe and invite my soul,',\n",
       " '  I lean and loafe at my ease observing a spear of summer grass.',\n",
       " '  My tongue, every atom of my blood, form’d from this soil, this air,',\n",
       " '  Born here of parents born here from parents the same, and their parents the same,',\n",
       " '  I, now thirty-seven years old in perfect health begin,',\n",
       " '  Hoping to cease not till death.',\n",
       " '  Creeds and schools in abeyance,',\n",
       " '  Retiring back a while sufficed at what they are, but never forgotten,',\n",
       " '  I harbor for good or bad, I permit to speak at every hazard,',\n",
       " '  Nature without check with original energy.',\n",
       " '  Houses and rooms are full of perfumes, the shelves are crowded with perfumes,',\n",
       " '  I breathe the fragrance myself and know it and like it,',\n",
       " '  The distillation would intoxicate me also, but I shall not let it.',\n",
       " '  The atmosphere is not a perfume, it has no taste of the distillation, it is odorless,',\n",
       " '  It is for my mouth forever, I am in love with it,',\n",
       " '  I will go to the bank by the wood and become undisguised and naked,',\n",
       " '  I am mad for it to be in contact with me.',\n",
       " '  The smoke of my own breath,',\n",
       " '  Echoes, ripples, buzz’d whispers, love-root, silk-thread, crotch and vine,',\n",
       " '  My respiration and inspiration, the beating of my heart, the passing of blood and air through my lungs,',\n",
       " '  The sniff of green leaves and dry leaves, and of the shore and dark-color’d sea-rocks, and of hay in the barn,',\n",
       " '  The sound of the belch’d words of my voice loos’d to the eddies of the wind,',\n",
       " '  A few light kisses, a few embraces, a reaching around of arms,',\n",
       " '  The play of shine and shade on the trees as the supple boughs wag,',\n",
       " '  The delight alone or in the rush of the streets, or along the fields and hill-sides,',\n",
       " '  The feeling of health, the full-noon trill, the song of me rising from bed and meeting the sun.',\n",
       " '  Have you reckon’d a thousand acres much? have you reckon’d the earth much?']"
      ]
     },
     "execution_count": 11,
     "metadata": {},
     "output_type": "execute_result"
    }
   ],
   "source": [
    "poem_lines_nonempty = []\n",
    "\n",
    "for line in poem_lines:\n",
    "    if line != '':\n",
    "        poem_lines_nonempty.append(line)\n",
    "\n",
    "        \n",
    "poem_lines_no_numbers = []\n",
    "\n",
    "for line in poem_lines_nonempty:\n",
    "    if not line[-1].isnumeric():\n",
    "        poem_lines_no_numbers.append(line)\n",
    "        \n",
    "        \n",
    "poem_lines_final = []\n",
    "\n",
    "for line in poem_lines_no_numbers:\n",
    "    if line[:5] != '     ':\n",
    "        poem_lines_final.append(line)\n",
    "    else:\n",
    "        poem_lines_final[-1] = poem_lines_final[-1] + ' ' + line.strip()\n",
    "\n",
    "poem_lines_final[:30]"
   ]
  }
 ],
 "metadata": {
  "kernelspec": {
   "display_name": "Python 3 (ipykernel)",
   "language": "python",
   "name": "python3"
  },
  "language_info": {
   "codemirror_mode": {
    "name": "ipython",
    "version": 3
   },
   "file_extension": ".py",
   "mimetype": "text/x-python",
   "name": "python",
   "nbconvert_exporter": "python",
   "pygments_lexer": "ipython3",
   "version": "3.11.6"
  }
 },
 "nbformat": 4,
 "nbformat_minor": 5
}
