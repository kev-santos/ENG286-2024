{
 "cells": [
  {
   "cell_type": "code",
   "execution_count": 30,
   "id": "1822a67a",
   "metadata": {
    "scrolled": true
   },
   "outputs": [
    {
     "data": {
      "text/html": [
       "<div>\n",
       "<style scoped>\n",
       "    .dataframe tbody tr th:only-of-type {\n",
       "        vertical-align: middle;\n",
       "    }\n",
       "\n",
       "    .dataframe tbody tr th {\n",
       "        vertical-align: top;\n",
       "    }\n",
       "\n",
       "    .dataframe thead th {\n",
       "        text-align: right;\n",
       "    }\n",
       "</style>\n",
       "<table border=\"1\" class=\"dataframe\">\n",
       "  <thead>\n",
       "    <tr style=\"text-align: right;\">\n",
       "      <th></th>\n",
       "      <th>UsageClass</th>\n",
       "      <th>CheckoutType</th>\n",
       "      <th>MaterialType</th>\n",
       "      <th>CheckoutYear</th>\n",
       "      <th>CheckoutMonth</th>\n",
       "      <th>Checkouts</th>\n",
       "      <th>Title</th>\n",
       "      <th>Creator</th>\n",
       "      <th>Subjects</th>\n",
       "      <th>Publisher</th>\n",
       "      <th>PublicationYear</th>\n",
       "    </tr>\n",
       "  </thead>\n",
       "  <tbody>\n",
       "    <tr>\n",
       "      <th>0</th>\n",
       "      <td>Digital</td>\n",
       "      <td>OverDrive</td>\n",
       "      <td>EBOOK</td>\n",
       "      <td>2020</td>\n",
       "      <td>4</td>\n",
       "      <td>2</td>\n",
       "      <td>Nighttime Symphony</td>\n",
       "      <td>Timbaland</td>\n",
       "      <td>Juvenile Fiction, Picture Book Fiction</td>\n",
       "      <td>Simon &amp; Schuster, Inc.</td>\n",
       "      <td>2019</td>\n",
       "    </tr>\n",
       "    <tr>\n",
       "      <th>1</th>\n",
       "      <td>Digital</td>\n",
       "      <td>OverDrive</td>\n",
       "      <td>EBOOK</td>\n",
       "      <td>2020</td>\n",
       "      <td>4</td>\n",
       "      <td>2</td>\n",
       "      <td>Cold Kill</td>\n",
       "      <td>Rennie Airth</td>\n",
       "      <td>Fiction, Mystery, Thriller</td>\n",
       "      <td>Severn House Publishers Ltd</td>\n",
       "      <td>2020</td>\n",
       "    </tr>\n",
       "    <tr>\n",
       "      <th>2</th>\n",
       "      <td>Digital</td>\n",
       "      <td>OverDrive</td>\n",
       "      <td>AUDIOBOOK</td>\n",
       "      <td>2020</td>\n",
       "      <td>4</td>\n",
       "      <td>1</td>\n",
       "      <td>The Choice (Unabridged)</td>\n",
       "      <td>Nicholas Sparks</td>\n",
       "      <td>Fiction, Literature</td>\n",
       "      <td>Books on Tape</td>\n",
       "      <td>2007</td>\n",
       "    </tr>\n",
       "    <tr>\n",
       "      <th>3</th>\n",
       "      <td>Digital</td>\n",
       "      <td>OverDrive</td>\n",
       "      <td>EBOOK</td>\n",
       "      <td>2020</td>\n",
       "      <td>4</td>\n",
       "      <td>3</td>\n",
       "      <td>The Master Key System</td>\n",
       "      <td>Charles F. Haanel</td>\n",
       "      <td>New Age, Nonfiction, Self-Improvement</td>\n",
       "      <td>Duke Classics</td>\n",
       "      <td>2020</td>\n",
       "    </tr>\n",
       "    <tr>\n",
       "      <th>4</th>\n",
       "      <td>Digital</td>\n",
       "      <td>OverDrive</td>\n",
       "      <td>EBOOK</td>\n",
       "      <td>2020</td>\n",
       "      <td>4</td>\n",
       "      <td>12</td>\n",
       "      <td>The Doughnut King</td>\n",
       "      <td>Jessie Janowitz</td>\n",
       "      <td>Juvenile Fiction, Juvenile Literature</td>\n",
       "      <td>Sourcebooks</td>\n",
       "      <td>2019</td>\n",
       "    </tr>\n",
       "    <tr>\n",
       "      <th>...</th>\n",
       "      <td>...</td>\n",
       "      <td>...</td>\n",
       "      <td>...</td>\n",
       "      <td>...</td>\n",
       "      <td>...</td>\n",
       "      <td>...</td>\n",
       "      <td>...</td>\n",
       "      <td>...</td>\n",
       "      <td>...</td>\n",
       "      <td>...</td>\n",
       "      <td>...</td>\n",
       "    </tr>\n",
       "    <tr>\n",
       "      <th>93666</th>\n",
       "      <td>Digital</td>\n",
       "      <td>OverDrive</td>\n",
       "      <td>EBOOK</td>\n",
       "      <td>2020</td>\n",
       "      <td>4</td>\n",
       "      <td>4</td>\n",
       "      <td>The Black Moth: Historical Romances Series, Bo...</td>\n",
       "      <td>Georgette Heyer</td>\n",
       "      <td>Fiction, Historical Fiction, Literature, Romance</td>\n",
       "      <td>Sourcebooks</td>\n",
       "      <td>2010</td>\n",
       "    </tr>\n",
       "    <tr>\n",
       "      <th>93667</th>\n",
       "      <td>Digital</td>\n",
       "      <td>OverDrive</td>\n",
       "      <td>AUDIOBOOK</td>\n",
       "      <td>2020</td>\n",
       "      <td>4</td>\n",
       "      <td>1</td>\n",
       "      <td>A Death in the Family (Unabridged)</td>\n",
       "      <td>James Agee</td>\n",
       "      <td>Classic Literature, Fiction</td>\n",
       "      <td>Blackstone Audio, Inc.</td>\n",
       "      <td>2012</td>\n",
       "    </tr>\n",
       "    <tr>\n",
       "      <th>93668</th>\n",
       "      <td>Digital</td>\n",
       "      <td>OverDrive</td>\n",
       "      <td>EBOOK</td>\n",
       "      <td>2020</td>\n",
       "      <td>4</td>\n",
       "      <td>2</td>\n",
       "      <td>My Fate According to the Butterfly</td>\n",
       "      <td>Gail Villanueva</td>\n",
       "      <td>Juvenile Fiction, Juvenile Literature</td>\n",
       "      <td>Scholastic, Inc. (US)</td>\n",
       "      <td>2019</td>\n",
       "    </tr>\n",
       "    <tr>\n",
       "      <th>93669</th>\n",
       "      <td>Digital</td>\n",
       "      <td>OverDrive</td>\n",
       "      <td>AUDIOBOOK</td>\n",
       "      <td>2020</td>\n",
       "      <td>4</td>\n",
       "      <td>17</td>\n",
       "      <td>The Second Sleep: A novel (unabridged) (Unabri...</td>\n",
       "      <td>Robert Harris</td>\n",
       "      <td>Fiction, Suspense, Thriller</td>\n",
       "      <td>Books on Tape</td>\n",
       "      <td>2019</td>\n",
       "    </tr>\n",
       "    <tr>\n",
       "      <th>93670</th>\n",
       "      <td>Digital</td>\n",
       "      <td>OverDrive</td>\n",
       "      <td>EBOOK</td>\n",
       "      <td>2020</td>\n",
       "      <td>4</td>\n",
       "      <td>3</td>\n",
       "      <td>A Dilly of a Death: China Bayles Mystery Serie...</td>\n",
       "      <td>Susan Wittig Albert</td>\n",
       "      <td>Fiction, Mystery</td>\n",
       "      <td>Penguin Group (USA), Inc.</td>\n",
       "      <td>2011</td>\n",
       "    </tr>\n",
       "  </tbody>\n",
       "</table>\n",
       "<p>93671 rows × 11 columns</p>\n",
       "</div>"
      ],
      "text/plain": [
       "      UsageClass CheckoutType MaterialType  CheckoutYear  CheckoutMonth  \\\n",
       "0        Digital    OverDrive        EBOOK          2020              4   \n",
       "1        Digital    OverDrive        EBOOK          2020              4   \n",
       "2        Digital    OverDrive    AUDIOBOOK          2020              4   \n",
       "3        Digital    OverDrive        EBOOK          2020              4   \n",
       "4        Digital    OverDrive        EBOOK          2020              4   \n",
       "...          ...          ...          ...           ...            ...   \n",
       "93666    Digital    OverDrive        EBOOK          2020              4   \n",
       "93667    Digital    OverDrive    AUDIOBOOK          2020              4   \n",
       "93668    Digital    OverDrive        EBOOK          2020              4   \n",
       "93669    Digital    OverDrive    AUDIOBOOK          2020              4   \n",
       "93670    Digital    OverDrive        EBOOK          2020              4   \n",
       "\n",
       "       Checkouts                                              Title  \\\n",
       "0              2                                 Nighttime Symphony   \n",
       "1              2                                          Cold Kill   \n",
       "2              1                            The Choice (Unabridged)   \n",
       "3              3                              The Master Key System   \n",
       "4             12                                  The Doughnut King   \n",
       "...          ...                                                ...   \n",
       "93666          4  The Black Moth: Historical Romances Series, Bo...   \n",
       "93667          1                 A Death in the Family (Unabridged)   \n",
       "93668          2                 My Fate According to the Butterfly   \n",
       "93669         17  The Second Sleep: A novel (unabridged) (Unabri...   \n",
       "93670          3  A Dilly of a Death: China Bayles Mystery Serie...   \n",
       "\n",
       "                   Creator                                          Subjects  \\\n",
       "0                Timbaland            Juvenile Fiction, Picture Book Fiction   \n",
       "1             Rennie Airth                        Fiction, Mystery, Thriller   \n",
       "2          Nicholas Sparks                               Fiction, Literature   \n",
       "3        Charles F. Haanel             New Age, Nonfiction, Self-Improvement   \n",
       "4          Jessie Janowitz             Juvenile Fiction, Juvenile Literature   \n",
       "...                    ...                                               ...   \n",
       "93666      Georgette Heyer  Fiction, Historical Fiction, Literature, Romance   \n",
       "93667           James Agee                       Classic Literature, Fiction   \n",
       "93668      Gail Villanueva             Juvenile Fiction, Juvenile Literature   \n",
       "93669        Robert Harris                       Fiction, Suspense, Thriller   \n",
       "93670  Susan Wittig Albert                                  Fiction, Mystery   \n",
       "\n",
       "                         Publisher PublicationYear  \n",
       "0           Simon & Schuster, Inc.            2019  \n",
       "1      Severn House Publishers Ltd            2020  \n",
       "2                    Books on Tape            2007  \n",
       "3                    Duke Classics            2020  \n",
       "4                      Sourcebooks            2019  \n",
       "...                            ...             ...  \n",
       "93666                  Sourcebooks            2010  \n",
       "93667       Blackstone Audio, Inc.            2012  \n",
       "93668        Scholastic, Inc. (US)            2019  \n",
       "93669                Books on Tape            2019  \n",
       "93670    Penguin Group (USA), Inc.            2011  \n",
       "\n",
       "[93671 rows x 11 columns]"
      ]
     },
     "execution_count": 30,
     "metadata": {},
     "output_type": "execute_result"
    }
   ],
   "source": [
    "import pandas as pd\n",
    "\n",
    "checkouts_df = pd.read_csv('seattle_checkouts.csv')\n",
    "checkouts_df"
   ]
  },
  {
   "cell_type": "markdown",
   "id": "01a77281",
   "metadata": {},
   "source": [
    "# Making a graph\n",
    "\n",
    "Make a bar graph showing the top 10 most common publishers in the list. \n",
    "\n",
    "### Question\n",
    "\n",
    "What's the error here? Correct it and run the code. \n"
   ]
  },
  {
   "cell_type": "code",
   "execution_count": null,
   "id": "116e7396",
   "metadata": {
    "scrolled": true
   },
   "outputs": [],
   "source": [
    "publisher_data = checkouts_df[\"Publisher\"].valuecounts()"
   ]
  },
  {
   "cell_type": "markdown",
   "id": "a70c62e9",
   "metadata": {},
   "source": [
    "### Question\n",
    "What is the *type* of `publisher_data`? How can we get only the *top 10* most common publishers? "
   ]
  },
  {
   "cell_type": "code",
   "execution_count": null,
   "id": "8e72f4e3",
   "metadata": {},
   "outputs": [],
   "source": [
    "# Store the top 10 publishers in the variable top_10_publishers_data.  \n",
    "top_10_publishers_data = "
   ]
  },
  {
   "cell_type": "markdown",
   "id": "cbdc2448",
   "metadata": {},
   "source": [
    "### Question\n",
    "\n",
    "Using the `top_10_publishers_data` variable, plot a bar graph depicting the data in that variable, and store that plot in a variable called `publisher_plot`. \n",
    "\n",
    "Modify the below line of pre-written code to complete the task. "
   ]
  },
  {
   "cell_type": "code",
   "execution_count": null,
   "id": "a7a9b114",
   "metadata": {},
   "outputs": [],
   "source": [
    "# Which part of the below code should we replace with top_10_publishers_data? \n",
    "\n",
    "nyt_df['author'].value_counts()[:10].plot(\n",
    "    kind='pie', figsize=(10, 10), title=''\n",
    ")"
   ]
  },
  {
   "cell_type": "markdown",
   "id": "b851fda1",
   "metadata": {},
   "source": [
    "# Adding a column to a dataframe\n",
    "\n",
    "### Question\n",
    "\n",
    "Add a column called \"Singleton?\" that checks if a book was checked out exactly once. The column will contain \"True\" for items with exactly one checkout, and \"False\" for items with more than one checkout. "
   ]
  },
  {
   "cell_type": "code",
   "execution_count": null,
   "id": "4721404d",
   "metadata": {},
   "outputs": [],
   "source": [
    "checkouts_df[\"Singleton?\"] = checkouts_df[\"Checkouts\"] == 1\n",
    "checkouts_df"
   ]
  },
  {
   "cell_type": "markdown",
   "id": "d46f087d",
   "metadata": {},
   "source": [
    "Now make a pie chart to compare the proportion of True and False values in the column \"Singleton?\". "
   ]
  },
  {
   "cell_type": "code",
   "execution_count": null,
   "id": "b9b57a76",
   "metadata": {},
   "outputs": [],
   "source": [
    "# What do I replace \"something\" with to do this?\n",
    "plot = something.plot(kind=\"pie\", figsize=(10, 10))\n",
    "print(plot)"
   ]
  },
  {
   "cell_type": "markdown",
   "id": "fa5dc888",
   "metadata": {},
   "source": [
    "Technical note:\n",
    "\n",
    "What does `checkouts_df[\"Checkouts\"] == 1` *output*? What is the type of the output? "
   ]
  },
  {
   "cell_type": "code",
   "execution_count": null,
   "id": "1ddc9ecd",
   "metadata": {},
   "outputs": [],
   "source": [
    "checkouts_df[\"Checkouts\"] == 1"
   ]
  },
  {
   "cell_type": "markdown",
   "id": "733be2ef",
   "metadata": {},
   "source": [
    "### Question \n",
    "\n",
    "The code below adds a column that checks if the given title is a mystery."
   ]
  },
  {
   "cell_type": "code",
   "execution_count": null,
   "id": "3d9c9342",
   "metadata": {
    "scrolled": true
   },
   "outputs": [],
   "source": [
    "checkouts_df[\"Mystery?\"] = checkouts_df[\"Subjects\"].str.contains(\"Mystery\")\n",
    "checkouts_df"
   ]
  },
  {
   "cell_type": "markdown",
   "id": "221db7f3",
   "metadata": {},
   "source": [
    "Now make a pie chart depicting the data in the \"Mystery?\" column. "
   ]
  },
  {
   "cell_type": "code",
   "execution_count": null,
   "id": "5ffe0eb1",
   "metadata": {},
   "outputs": [],
   "source": []
  },
  {
   "cell_type": "markdown",
   "id": "04c55de5",
   "metadata": {},
   "source": [
    "# Using the .groupby() method\n"
   ]
  },
  {
   "cell_type": "markdown",
   "id": "8e9214f0",
   "metadata": {},
   "source": [
    "(Note: the Melanie Walsh textbook linked on the Quercus page has a good intro to the .groupby() method.)\n",
    "\n",
    "Let's try to find the creators whose works were checked out the most in April 2020. \n",
    "\n",
    "We can do this with the .groupby() method. \n",
    "\n",
    "First, I want to group by the Creator column."
   ]
  },
  {
   "cell_type": "code",
   "execution_count": null,
   "id": "b2641020",
   "metadata": {
    "scrolled": true
   },
   "outputs": [],
   "source": [
    "#What do I need to add to this to group by creator?\n",
    "\n",
    "checkouts_grouped_creator = checkouts_df.groupby()\n",
    "checkouts_grouped_creator"
   ]
  },
  {
   "cell_type": "markdown",
   "id": "dedbbdee",
   "metadata": {},
   "source": [
    "Now, to add together the checkouts corresponding to each creator, I can use the `.sum()` method!"
   ]
  },
  {
   "cell_type": "code",
   "execution_count": null,
   "id": "ac4b3d9a",
   "metadata": {},
   "outputs": [],
   "source": [
    "checkouts_grouped_creator_summed = checkouts_grouped_creator.sum()\n",
    "checkouts_grouped_creator_summed"
   ]
  },
  {
   "cell_type": "markdown",
   "id": "d5c71a7f",
   "metadata": {},
   "source": [
    "**Question:** How can I select just the Creator and Checkouts column from the dataframe `checkouts_grouped_creator_summed`?"
   ]
  },
  {
   "cell_type": "code",
   "execution_count": null,
   "id": "a790eb60",
   "metadata": {},
   "outputs": [],
   "source": [
    "checkouts_grouped_creator_summed"
   ]
  },
  {
   "cell_type": "markdown",
   "id": "fd7b4c42",
   "metadata": {},
   "source": [
    "Now I can find the ten authors with the most checkouts in total, using the `.nlargest()` method!\n",
    "\n",
    "**Question:** What would I need to change to get the top 20 most checked out authors?"
   ]
  },
  {
   "cell_type": "code",
   "execution_count": null,
   "id": "351d219f",
   "metadata": {
    "scrolled": true
   },
   "outputs": [],
   "source": [
    "top_10_creators = checkouts_grouped_creator_summed[[\"Checkouts\"]].nlargest(10, columns=\"Checkouts\")\n",
    "top_10_creators"
   ]
  },
  {
   "cell_type": "markdown",
   "id": "1131aa69",
   "metadata": {},
   "source": [
    "...And plot the result!"
   ]
  },
  {
   "cell_type": "code",
   "execution_count": null,
   "id": "8bdf1988",
   "metadata": {},
   "outputs": [],
   "source": [
    "top_10_creators.plot(kind='bar', figsize=(10, 5), title='10 Most Checked-Out Creators')"
   ]
  },
  {
   "cell_type": "markdown",
   "id": "f900cb5b",
   "metadata": {},
   "source": [
    "## Grouping by multiple columns\n",
    "\n",
    "Let's find the most common material types for each publication year.\n",
    "\n",
    "I can do this by calling the `.groupby()` method with a list: we group by the PublicationYear column first, then by the MaterialType column. \n",
    "\n",
    "### Question\n",
    "\n",
    "Unpack the stack of methods in the following lines. \n",
    "\n",
    "What does the `.groupby()` method output?\n",
    "\n",
    "What happens when we apply the `.size()` method?\n",
    "\n",
    "What happens when we apply the `.unstack()` method?"
   ]
  },
  {
   "cell_type": "code",
   "execution_count": 37,
   "id": "9d978031",
   "metadata": {},
   "outputs": [
    {
     "data": {
      "text/plain": [
       "<pandas.core.groupby.generic.DataFrameGroupBy object at 0x7f7966481690>"
      ]
     },
     "execution_count": 37,
     "metadata": {},
     "output_type": "execute_result"
    }
   ],
   "source": [
    "checkouts_df.groupby(['PublicationYear', 'MaterialType'])"
   ]
  },
  {
   "cell_type": "code",
   "execution_count": 48,
   "id": "8c025c96",
   "metadata": {
    "scrolled": true
   },
   "outputs": [
    {
     "data": {
      "text/plain": [
       "PublicationYear  MaterialType\n",
       "1999             BOOK              1\n",
       "2004             BOOK              1\n",
       "2005             AUDIOBOOK       468\n",
       "                 BOOK              3\n",
       "                 EBOOK           494\n",
       "                                ... \n",
       "[2018]           BOOK             12\n",
       "[2019]           BOOK              2\n",
       "                 REGPRINT          1\n",
       "                 VIDEODISC         1\n",
       "p2014.           SOUNDDISC         1\n",
       "Length: 77, dtype: int64"
      ]
     },
     "execution_count": 48,
     "metadata": {},
     "output_type": "execute_result"
    }
   ],
   "source": [
    "checkouts_df.groupby(['PublicationYear', 'MaterialType']).size()"
   ]
  },
  {
   "cell_type": "markdown",
   "id": "64dd6c5e",
   "metadata": {},
   "source": [
    "I can select the first 53 rows of this to get rid of the weird data at the end:"
   ]
  },
  {
   "cell_type": "code",
   "execution_count": 47,
   "id": "a99da293",
   "metadata": {},
   "outputs": [
    {
     "name": "stdout",
     "output_type": "stream",
     "text": [
      "Axes(0.125,0.11;0.775x0.77)\n"
     ]
    },
    {
     "data": {
      "image/png": "[encoded data removed]",
      "text/plain": [
       "<Figure size 700x700 with 1 Axes>"
      ]
     },
     "metadata": {},
     "output_type": "display_data"
    }
   ],
   "source": [
    "grouped = checkouts_df.groupby(['PublicationYear', 'MaterialType']).size()[:53].unstack(fill_value=0)\n",
    "\n",
    "plot = grouped.plot(kind=\"bar\", figsize=(7, 7))\n",
    "print(plot)"
   ]
  },
  {
   "cell_type": "markdown",
   "id": "47e1d51d",
   "metadata": {},
   "source": [
    "### Question\n",
    "\n",
    "Unpack the stack of methods in the following lines. (No need to run any of the cells for this task.)\n",
    "\n",
    "What does the .groupby() method output?\n",
    "\n",
    "What happens when we apply the .size() method?\n",
    "\n",
    "What happens when we apply the .unstack() method?"
   ]
  },
  {
   "cell_type": "code",
   "execution_count": 32,
   "id": "994827eb",
   "metadata": {},
   "outputs": [
    {
     "data": {
      "text/html": [
       "<div>\n",
       "<style scoped>\n",
       "    .dataframe tbody tr th:only-of-type {\n",
       "        vertical-align: middle;\n",
       "    }\n",
       "\n",
       "    .dataframe tbody tr th {\n",
       "        vertical-align: top;\n",
       "    }\n",
       "\n",
       "    .dataframe thead th {\n",
       "        text-align: right;\n",
       "    }\n",
       "</style>\n",
       "<table border=\"1\" class=\"dataframe\">\n",
       "  <thead>\n",
       "    <tr style=\"text-align: right;\">\n",
       "      <th></th>\n",
       "      <th>year</th>\n",
       "      <th>week</th>\n",
       "      <th>rank</th>\n",
       "      <th>title_id</th>\n",
       "      <th>title</th>\n",
       "      <th>author</th>\n",
       "      <th>first_name</th>\n",
       "      <th>gender_signal</th>\n",
       "    </tr>\n",
       "  </thead>\n",
       "  <tbody>\n",
       "    <tr>\n",
       "      <th>0</th>\n",
       "      <td>1931</td>\n",
       "      <td>1931-10-12</td>\n",
       "      <td>1</td>\n",
       "      <td>6477</td>\n",
       "      <td>The Ten Commandments</td>\n",
       "      <td>Warwick Deeping</td>\n",
       "      <td>Warwick</td>\n",
       "      <td>M</td>\n",
       "    </tr>\n",
       "    <tr>\n",
       "      <th>1</th>\n",
       "      <td>1931</td>\n",
       "      <td>1931-10-12</td>\n",
       "      <td>2</td>\n",
       "      <td>1808</td>\n",
       "      <td>Finche'S Fortune</td>\n",
       "      <td>Mazo de la Roche</td>\n",
       "      <td>Mazo</td>\n",
       "      <td>U</td>\n",
       "    </tr>\n",
       "    <tr>\n",
       "      <th>2</th>\n",
       "      <td>1931</td>\n",
       "      <td>1931-10-12</td>\n",
       "      <td>3</td>\n",
       "      <td>5304</td>\n",
       "      <td>The Good Earth</td>\n",
       "      <td>Pearl S. Buck</td>\n",
       "      <td>Pearl</td>\n",
       "      <td>F</td>\n",
       "    </tr>\n",
       "    <tr>\n",
       "      <th>3</th>\n",
       "      <td>1931</td>\n",
       "      <td>1931-10-12</td>\n",
       "      <td>4</td>\n",
       "      <td>4038</td>\n",
       "      <td>Shadows On The Rock</td>\n",
       "      <td>Willa Cather</td>\n",
       "      <td>Willa</td>\n",
       "      <td>F</td>\n",
       "    </tr>\n",
       "    <tr>\n",
       "      <th>4</th>\n",
       "      <td>1931</td>\n",
       "      <td>1931-10-12</td>\n",
       "      <td>5</td>\n",
       "      <td>3946</td>\n",
       "      <td>Scarmouche The King Maker</td>\n",
       "      <td>Rafael Sabatini</td>\n",
       "      <td>Rafael</td>\n",
       "      <td>M</td>\n",
       "    </tr>\n",
       "    <tr>\n",
       "      <th>...</th>\n",
       "      <td>...</td>\n",
       "      <td>...</td>\n",
       "      <td>...</td>\n",
       "      <td>...</td>\n",
       "      <td>...</td>\n",
       "      <td>...</td>\n",
       "      <td>...</td>\n",
       "      <td>...</td>\n",
       "    </tr>\n",
       "    <tr>\n",
       "      <th>60381</th>\n",
       "      <td>2020</td>\n",
       "      <td>2020-12-06</td>\n",
       "      <td>11</td>\n",
       "      <td>2332</td>\n",
       "      <td>I Would Leave Me If I Could</td>\n",
       "      <td>Halsey</td>\n",
       "      <td>Halsey</td>\n",
       "      <td>A</td>\n",
       "    </tr>\n",
       "    <tr>\n",
       "      <th>60382</th>\n",
       "      <td>2020</td>\n",
       "      <td>2020-12-06</td>\n",
       "      <td>12</td>\n",
       "      <td>6601</td>\n",
       "      <td>The Vanishing Half</td>\n",
       "      <td>Brit Bennett</td>\n",
       "      <td>Brit</td>\n",
       "      <td>A</td>\n",
       "    </tr>\n",
       "    <tr>\n",
       "      <th>60383</th>\n",
       "      <td>2020</td>\n",
       "      <td>2020-12-06</td>\n",
       "      <td>13</td>\n",
       "      <td>7239</td>\n",
       "      <td>Where The Crawdads Sing</td>\n",
       "      <td>Delia Owens</td>\n",
       "      <td>Delia</td>\n",
       "      <td>F</td>\n",
       "    </tr>\n",
       "    <tr>\n",
       "      <th>60384</th>\n",
       "      <td>2020</td>\n",
       "      <td>2020-12-06</td>\n",
       "      <td>14</td>\n",
       "      <td>482</td>\n",
       "      <td>Anxious People</td>\n",
       "      <td>Fredrik Backman</td>\n",
       "      <td>Fredrik</td>\n",
       "      <td>M</td>\n",
       "    </tr>\n",
       "    <tr>\n",
       "      <th>60385</th>\n",
       "      <td>2020</td>\n",
       "      <td>2020-12-06</td>\n",
       "      <td>15</td>\n",
       "      <td>2902</td>\n",
       "      <td>Marauder</td>\n",
       "      <td>Clive Cussler and Boyd Morrison</td>\n",
       "      <td>Clive</td>\n",
       "      <td>M</td>\n",
       "    </tr>\n",
       "  </tbody>\n",
       "</table>\n",
       "<p>60386 rows × 8 columns</p>\n",
       "</div>"
      ],
      "text/plain": [
       "       year        week  rank  title_id                        title  \\\n",
       "0      1931  1931-10-12     1      6477         The Ten Commandments   \n",
       "1      1931  1931-10-12     2      1808             Finche'S Fortune   \n",
       "2      1931  1931-10-12     3      5304               The Good Earth   \n",
       "3      1931  1931-10-12     4      4038          Shadows On The Rock   \n",
       "4      1931  1931-10-12     5      3946    Scarmouche The King Maker   \n",
       "...     ...         ...   ...       ...                          ...   \n",
       "60381  2020  2020-12-06    11      2332  I Would Leave Me If I Could   \n",
       "60382  2020  2020-12-06    12      6601           The Vanishing Half   \n",
       "60383  2020  2020-12-06    13      7239      Where The Crawdads Sing   \n",
       "60384  2020  2020-12-06    14       482               Anxious People   \n",
       "60385  2020  2020-12-06    15      2902                     Marauder   \n",
       "\n",
       "                                author first_name gender_signal  \n",
       "0                      Warwick Deeping    Warwick             M  \n",
       "1                     Mazo de la Roche       Mazo             U  \n",
       "2                        Pearl S. Buck      Pearl             F  \n",
       "3                         Willa Cather      Willa             F  \n",
       "4                      Rafael Sabatini     Rafael             M  \n",
       "...                                ...        ...           ...  \n",
       "60381                           Halsey     Halsey             A  \n",
       "60382                     Brit Bennett       Brit             A  \n",
       "60383                      Delia Owens      Delia             F  \n",
       "60384                  Fredrik Backman    Fredrik             M  \n",
       "60385  Clive Cussler and Boyd Morrison      Clive             M  \n",
       "\n",
       "[60386 rows x 8 columns]"
      ]
     },
     "execution_count": 32,
     "metadata": {},
     "output_type": "execute_result"
    }
   ],
   "source": [
    "nytg_df = pd.read_csv('nyt_full_gender_signal.tsv', sep=\"\\t\")\n",
    "nytg_df"
   ]
  },
  {
   "cell_type": "code",
   "execution_count": 33,
   "id": "bbb9d79e",
   "metadata": {},
   "outputs": [
    {
     "data": {
      "text/plain": [
       "<pandas.core.groupby.generic.DataFrameGroupBy object at 0x7f79661d9f50>"
      ]
     },
     "execution_count": 33,
     "metadata": {},
     "output_type": "execute_result"
    }
   ],
   "source": [
    "nytg_df.groupby(['year', 'gender_signal'])"
   ]
  },
  {
   "cell_type": "code",
   "execution_count": 34,
   "id": "d2beb67e",
   "metadata": {
    "scrolled": true
   },
   "outputs": [
    {
     "data": {
      "text/plain": [
       "year  gender_signal\n",
       "1931  A                  4\n",
       "      F                  7\n",
       "      I                  4\n",
       "      M                  9\n",
       "      U                  1\n",
       "                      ... \n",
       "2020  A                 63\n",
       "      F                368\n",
       "      I                 21\n",
       "      M                278\n",
       "      U                  5\n",
       "Length: 423, dtype: int64"
      ]
     },
     "execution_count": 34,
     "metadata": {},
     "output_type": "execute_result"
    }
   ],
   "source": [
    "nytg_df.groupby(['year', 'gender_signal']).size()"
   ]
  },
  {
   "cell_type": "code",
   "execution_count": 35,
   "id": "13604b04",
   "metadata": {},
   "outputs": [
    {
     "data": {
      "text/html": [
       "<div>\n",
       "<style scoped>\n",
       "    .dataframe tbody tr th:only-of-type {\n",
       "        vertical-align: middle;\n",
       "    }\n",
       "\n",
       "    .dataframe tbody tr th {\n",
       "        vertical-align: top;\n",
       "    }\n",
       "\n",
       "    .dataframe thead th {\n",
       "        text-align: right;\n",
       "    }\n",
       "</style>\n",
       "<table border=\"1\" class=\"dataframe\">\n",
       "  <thead>\n",
       "    <tr style=\"text-align: right;\">\n",
       "      <th>gender_signal</th>\n",
       "      <th>A</th>\n",
       "      <th>F</th>\n",
       "      <th>I</th>\n",
       "      <th>M</th>\n",
       "      <th>U</th>\n",
       "    </tr>\n",
       "    <tr>\n",
       "      <th>year</th>\n",
       "      <th></th>\n",
       "      <th></th>\n",
       "      <th></th>\n",
       "      <th></th>\n",
       "      <th></th>\n",
       "    </tr>\n",
       "  </thead>\n",
       "  <tbody>\n",
       "    <tr>\n",
       "      <th>1931</th>\n",
       "      <td>4</td>\n",
       "      <td>7</td>\n",
       "      <td>4</td>\n",
       "      <td>9</td>\n",
       "      <td>1</td>\n",
       "    </tr>\n",
       "    <tr>\n",
       "      <th>1932</th>\n",
       "      <td>2</td>\n",
       "      <td>60</td>\n",
       "      <td>18</td>\n",
       "      <td>75</td>\n",
       "      <td>1</td>\n",
       "    </tr>\n",
       "    <tr>\n",
       "      <th>1933</th>\n",
       "      <td>13</td>\n",
       "      <td>40</td>\n",
       "      <td>14</td>\n",
       "      <td>87</td>\n",
       "      <td>2</td>\n",
       "    </tr>\n",
       "    <tr>\n",
       "      <th>1934</th>\n",
       "      <td>13</td>\n",
       "      <td>108</td>\n",
       "      <td>35</td>\n",
       "      <td>241</td>\n",
       "      <td>7</td>\n",
       "    </tr>\n",
       "    <tr>\n",
       "      <th>1935</th>\n",
       "      <td>11</td>\n",
       "      <td>135</td>\n",
       "      <td>29</td>\n",
       "      <td>222</td>\n",
       "      <td>18</td>\n",
       "    </tr>\n",
       "    <tr>\n",
       "      <th>...</th>\n",
       "      <td>...</td>\n",
       "      <td>...</td>\n",
       "      <td>...</td>\n",
       "      <td>...</td>\n",
       "      <td>...</td>\n",
       "    </tr>\n",
       "    <tr>\n",
       "      <th>2016</th>\n",
       "      <td>36</td>\n",
       "      <td>361</td>\n",
       "      <td>20</td>\n",
       "      <td>385</td>\n",
       "      <td>0</td>\n",
       "    </tr>\n",
       "    <tr>\n",
       "      <th>2017</th>\n",
       "      <td>64</td>\n",
       "      <td>276</td>\n",
       "      <td>32</td>\n",
       "      <td>426</td>\n",
       "      <td>2</td>\n",
       "    </tr>\n",
       "    <tr>\n",
       "      <th>2018</th>\n",
       "      <td>56</td>\n",
       "      <td>335</td>\n",
       "      <td>54</td>\n",
       "      <td>327</td>\n",
       "      <td>8</td>\n",
       "    </tr>\n",
       "    <tr>\n",
       "      <th>2019</th>\n",
       "      <td>52</td>\n",
       "      <td>317</td>\n",
       "      <td>17</td>\n",
       "      <td>350</td>\n",
       "      <td>14</td>\n",
       "    </tr>\n",
       "    <tr>\n",
       "      <th>2020</th>\n",
       "      <td>63</td>\n",
       "      <td>368</td>\n",
       "      <td>21</td>\n",
       "      <td>278</td>\n",
       "      <td>5</td>\n",
       "    </tr>\n",
       "  </tbody>\n",
       "</table>\n",
       "<p>90 rows × 5 columns</p>\n",
       "</div>"
      ],
      "text/plain": [
       "gender_signal   A    F   I    M   U\n",
       "year                               \n",
       "1931            4    7   4    9   1\n",
       "1932            2   60  18   75   1\n",
       "1933           13   40  14   87   2\n",
       "1934           13  108  35  241   7\n",
       "1935           11  135  29  222  18\n",
       "...            ..  ...  ..  ...  ..\n",
       "2016           36  361  20  385   0\n",
       "2017           64  276  32  426   2\n",
       "2018           56  335  54  327   8\n",
       "2019           52  317  17  350  14\n",
       "2020           63  368  21  278   5\n",
       "\n",
       "[90 rows x 5 columns]"
      ]
     },
     "execution_count": 35,
     "metadata": {},
     "output_type": "execute_result"
    }
   ],
   "source": [
    "nytg_df.groupby(['year', 'gender_signal']).size().unstack(fill_value=0)"
   ]
  },
  {
   "cell_type": "code",
   "execution_count": null,
   "id": "6b1d6b2e",
   "metadata": {},
   "outputs": [],
   "source": []
  }
 ],
 "metadata": {
  "kernelspec": {
   "display_name": "Python 3 (ipykernel)",
   "language": "python",
   "name": "python3"
  },
  "language_info": {
   "codemirror_mode": {
    "name": "ipython",
    "version": 3
   },
   "file_extension": ".py",
   "mimetype": "text/x-python",
   "name": "python",
   "nbconvert_exporter": "python",
   "pygments_lexer": "ipython3",
   "version": "3.11.6"
  }
 },
 "nbformat": 4,
 "nbformat_minor": 5
}
