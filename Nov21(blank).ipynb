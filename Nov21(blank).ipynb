{
 "cells": [
  {
   "cell_type": "markdown",
   "id": "2e59e0a3",
   "metadata": {},
   "source": [
    "# Calculating TTR using TextBlob"
   ]
  },
  {
   "cell_type": "markdown",
   "id": "b5b78021",
   "metadata": {},
   "source": [
    "### Task\n",
    "Annotate each of the following lines with a comment explaining what the line is doing. "
   ]
  },
  {
   "cell_type": "code",
   "execution_count": null,
   "id": "e342e4b9",
   "metadata": {},
   "outputs": [],
   "source": [
    "from textblob import TextBlob\n",
    "\n",
    "whitman_text = open('song_of_myself.txt', encoding = 'utf-8').read() \n",
    "\n",
    "whitman_blob = TextBlob(whitman_text) "
   ]
  },
  {
   "cell_type": "markdown",
   "id": "a9ed59d9",
   "metadata": {},
   "source": [
    "### Question\n",
    "\n",
    "a) What does the `.word_counts` TextBlob method return?\n",
    "\n",
    "b) What do `whitman_counts.keys()` and `whitman_counts.values()` return?\n",
    "\n",
    "c) What do the values `sum(whitman_counts.values())` and `len(whitman_counts.keys())` represent?\n",
    "\n",
    "(Note: `.word_counts` is a function from TextBlob, which is why it doesn't require the ending `()`. `.keys()` and `.values()` are default Python methods that work with dictionaries.)"
   ]
  },
  {
   "cell_type": "code",
   "execution_count": null,
   "id": "3ddeb37a",
   "metadata": {
    "scrolled": true
   },
   "outputs": [],
   "source": [
    "whitman_counts = whitman_blob.word_counts\n",
    "whitman_counts"
   ]
  },
  {
   "cell_type": "code",
   "execution_count": null,
   "id": "c13b63e2",
   "metadata": {
    "scrolled": true
   },
   "outputs": [],
   "source": [
    "whitman_counts.keys()"
   ]
  },
  {
   "cell_type": "code",
   "execution_count": null,
   "id": "f155abd4",
   "metadata": {
    "scrolled": true
   },
   "outputs": [],
   "source": [
    "whitman_counts.values()"
   ]
  },
  {
   "cell_type": "code",
   "execution_count": null,
   "id": "01cb0a19",
   "metadata": {},
   "outputs": [],
   "source": [
    "print(sum(whitman_counts.values()))\n",
    "\n",
    "print(len(whitman_counts.keys()))\n",
    "\n",
    "song_of_myself_ttr = len(whitman_counts.keys()) / sum(whitman_counts.values()) * 100\n",
    "print(song_of_myself_ttr)"
   ]
  },
  {
   "cell_type": "markdown",
   "id": "6122d25a",
   "metadata": {},
   "source": [
    "# Creating a dataframe with rolling average data\n",
    "\n",
    "### Task\n",
    "\n",
    "Let's go through and annotate this code block."
   ]
  },
  {
   "cell_type": "code",
   "execution_count": null,
   "id": "6effa61a",
   "metadata": {},
   "outputs": [],
   "source": [
    "from textblob import TextBlob\n",
    "\n",
    "whitman_text = open('song_of_myself.txt', encoding = 'utf-8').read()\n",
    "\n",
    "whitman_blob = TextBlob(whitman_text)\n",
    "\n",
    "whitman_sentences_blob = whitman_blob.sentences\n",
    "\n",
    "whitman_polarities = [] \n",
    "\n",
    "for sentence in whitman_sentences_blob:\n",
    "    whitman_polarities.append(sentence.polarity) \n",
    "    \n",
    "whitman_subjectivities = []\n",
    "for sentence in whitman_sentences_blob:\n",
    "    whitman_subjectivities.append(sentence.subjectivity)\n",
    "    \n",
    "whitman_sentences = []\n",
    "for sentence in whitman_sentences_blob:\n",
    "    whitman_sentences.append(\" \".join(sentence.words))\n",
    "    \n",
    "whitman_ttrs = []\n",
    "for sentence in whitman_sentences_blob:\n",
    "    sentence_counts = sentence.word_counts\n",
    "    whitman_ttrs.append((len(sentence_counts)/sum(sentence_counts.values())))\n",
    "    \n",
    "import pandas as pd\n",
    "whitman_sentences_df = pd.DataFrame({\n",
    "    'sentence': whitman_sentences,\n",
    "    'polarity': whitman_polarities,\n",
    "    'subjectivity': whitman_subjectivities,\n",
    "    'TTR': whitman_ttrs\n",
    "})    \n",
    "\n",
    "whitman_sentences_df"
   ]
  },
  {
   "cell_type": "markdown",
   "id": "bedc82b8",
   "metadata": {},
   "source": [
    "### Task\n",
    "\n",
    "Plot a line graph showing how the TTRs change over the course of the poem. "
   ]
  },
  {
   "cell_type": "code",
   "execution_count": null,
   "id": "c7aed19b",
   "metadata": {},
   "outputs": [],
   "source": []
  },
  {
   "cell_type": "markdown",
   "id": "cfd1a2b7",
   "metadata": {},
   "source": [
    "### Question\n",
    "\n",
    "What does the below line of code do? \n",
    "\n",
    "Note: \"center=True\" means we are looking at the 10 items around each item. For example, the 5th value in `whitman_sentences_df['polarity'].rolling(window=10, center=True).mean()` is the mean polarity among the first 10 sentences. "
   ]
  },
  {
   "cell_type": "code",
   "execution_count": null,
   "id": "ad30fc79",
   "metadata": {},
   "outputs": [],
   "source": [
    "whitman_sentences_df['rolling_10_polarity'] = \\\n",
    "    whitman_sentences_df['polarity'].rolling(window=10, center=True).mean()\n"
   ]
  },
  {
   "cell_type": "code",
   "execution_count": null,
   "id": "9bcf8ae2",
   "metadata": {
    "scrolled": true
   },
   "outputs": [],
   "source": [
    "whitman_sentences_df['polarity'].rolling(window=10, center=True).mean()[:25]"
   ]
  },
  {
   "cell_type": "code",
   "execution_count": null,
   "id": "29ee8a25",
   "metadata": {
    "scrolled": false
   },
   "outputs": [],
   "source": [
    "whitman_sentences_df['rolling_10_polarity'].plot(kind='line', figsize=(20,8))"
   ]
  },
  {
   "cell_type": "markdown",
   "id": "537ccc5c",
   "metadata": {},
   "source": [
    "### Task\n",
    "\n",
    "a) Alter the below lines of code to create a new column in the `whitman_sentences_df` DataFrame called `rolling_20_polarity`, which contains the average polarity of every group of 20 consecutive items. Then, create a line plot representing the data in the `rolling_10_polarity` and `rolling_20_polarity` columns. \n"
   ]
  },
  {
   "cell_type": "code",
   "execution_count": null,
   "id": "cb756e49",
   "metadata": {},
   "outputs": [],
   "source": [
    "whitman_sentences_df['rolling_10_polarity'] = \\\n",
    "    whitman_sentences_df['polarity'].rolling(window=10, center=True).mean()\n",
    "\n",
    ".plot()"
   ]
  },
  {
   "cell_type": "markdown",
   "id": "869e2058",
   "metadata": {},
   "source": [
    "b) Alter the below line of code to create a new column in the `whitman_sentences_df` DataFrame called `rolling_10_ttr`, which contains the average TTR of every group of 20 consecutive items. Then plot the result. \n"
   ]
  },
  {
   "cell_type": "code",
   "execution_count": null,
   "id": "02ca216e",
   "metadata": {},
   "outputs": [],
   "source": [
    "whitman_sentences_df['rolling_10_polarity'] = \\\n",
    "    whitman_sentences_df['polarity'].rolling(window=10, center=True).mean()"
   ]
  },
  {
   "cell_type": "markdown",
   "id": "79ea06c9",
   "metadata": {},
   "source": [
    "# Creating scatter plots\n",
    "\n",
    "Scatter plots can be used if you want to see if two variables are correlated. "
   ]
  },
  {
   "cell_type": "code",
   "execution_count": null,
   "id": "63242ad1",
   "metadata": {},
   "outputs": [],
   "source": [
    "whitman_sentences_df"
   ]
  },
  {
   "cell_type": "code",
   "execution_count": null,
   "id": "825c58d8",
   "metadata": {},
   "outputs": [],
   "source": [
    "whitman_sentences_df.plot(kind='scatter', x = 'polarity', y='subjectivity')"
   ]
  },
  {
   "cell_type": "code",
   "execution_count": null,
   "id": "f1f9bc8d",
   "metadata": {},
   "outputs": [],
   "source": [
    "whitman_sentences_df.plot(kind='scatter', x = 'polarity', y='subjectivity', marker = '*', color='fuchsia')"
   ]
  },
  {
   "cell_type": "markdown",
   "id": "7a72c344",
   "metadata": {},
   "source": [
    "# DataFrame review"
   ]
  },
  {
   "cell_type": "code",
   "execution_count": null,
   "id": "6b3aeef3",
   "metadata": {},
   "outputs": [],
   "source": [
    "whitman_sentences_df"
   ]
  },
  {
   "cell_type": "markdown",
   "id": "e150d1b9",
   "metadata": {},
   "source": [
    "## Isolating columns\n",
    "\n",
    "### Question\n",
    "\n",
    "How can I isolate just the \"sentence\" and \"rolling 10 polarity\" columns from `whitman_sentences_df`?  "
   ]
  },
  {
   "cell_type": "code",
   "execution_count": null,
   "id": "38f43ac7",
   "metadata": {},
   "outputs": [],
   "source": [
    "#Isolating the sentence and rolling 10 polarity columns:\n",
    "whitman_sentences_df"
   ]
  },
  {
   "cell_type": "markdown",
   "id": "3e9a7017",
   "metadata": {},
   "source": [
    "## Filtering rows"
   ]
  },
  {
   "cell_type": "markdown",
   "id": "c1b8f63d",
   "metadata": {},
   "source": [
    "You can isolate rows that correspond to certain criteria.\n",
    "\n",
    "### Question\n",
    "\n",
    "The below line of code, copy-pasted from a lecture, was used to get a dataframe containing only the works written by Toni Morrison. \n",
    "\n",
    "Alter the line to get a dataframe containing only the sentences in `whitman_sentences_df` with zero polarity. "
   ]
  },
  {
   "cell_type": "code",
   "execution_count": null,
   "id": "bb79c055",
   "metadata": {},
   "outputs": [],
   "source": [
    "nyt_df[nyt_df['author'] == 'Toni Morrison']"
   ]
  },
  {
   "cell_type": "markdown",
   "id": "b088cf52",
   "metadata": {},
   "source": [
    "Now, write a line of code to isolate rows with sentences whose polarity value is positive:"
   ]
  },
  {
   "cell_type": "code",
   "execution_count": null,
   "id": "27fd1928",
   "metadata": {},
   "outputs": [],
   "source": [
    "whitman_sentences_df"
   ]
  },
  {
   "cell_type": "markdown",
   "id": "b2b11fbe",
   "metadata": {},
   "source": [
    "We can put the \"filter\" in a separate variable, then apply it to the DataFrame."
   ]
  },
  {
   "cell_type": "code",
   "execution_count": null,
   "id": "ac03358d",
   "metadata": {
    "scrolled": true
   },
   "outputs": [],
   "source": [
    "polarity_filter = \n",
    "whitman_sentences_df[polarity_filter]"
   ]
  },
  {
   "cell_type": "markdown",
   "id": "8dbe9990",
   "metadata": {},
   "source": [
    "## Grouping by a single column"
   ]
  },
  {
   "cell_type": "markdown",
   "id": "bc91c8b1",
   "metadata": {},
   "source": [
    "The code below adds a new column called \"polarity_category\" that reads \"Positive\" if the sentence has positive polarity, \"Negative\" if the sentence has negative polarity, and \"Neutral\" if the sentence has zero polarity. \n",
    "\n",
    "I want to see if, on average, positive or negative sentences are *more subjective* than neutral sentences. "
   ]
  },
  {
   "cell_type": "code",
   "execution_count": null,
   "id": "f8d3f29f",
   "metadata": {
    "scrolled": false
   },
   "outputs": [],
   "source": [
    "whitman_text = open('song_of_myself.txt', encoding = 'utf-8').read() \n",
    "\n",
    "whitman_sentences_blob = TextBlob(whitman_text).sentences\n",
    "\n",
    "polarity_categories = []\n",
    "\n",
    "for sentence in whitman_sentences_blob:\n",
    "    if sentence.polarity < 0:\n",
    "        polarity_categories.append(\"Negative\")\n",
    "    elif sentence.polarity > 0:\n",
    "        polarity_categories.append(\"Positive\")\n",
    "    else:\n",
    "        polarity_categories.append(\"Neutral\")\n",
    "\n",
    "whitman_sentences_df[\"polarity_category\"] = polarity_categories\n",
    "whitman_sentences_df"
   ]
  },
  {
   "cell_type": "markdown",
   "id": "a0535ee2",
   "metadata": {},
   "source": [
    "### Question\n",
    "\n",
    "The below line of code found the mean VADER score across each category of test sentence. \n",
    "\n",
    "Alter the line to group `whitman_sentences_df` by the polarity category, then calculate the mean subjectivity in each category. "
   ]
  },
  {
   "cell_type": "code",
   "execution_count": null,
   "id": "dc0e84c1",
   "metadata": {},
   "outputs": [],
   "source": [
    "results_df.groupby('Category')['VADER Score'].mean()"
   ]
  },
  {
   "cell_type": "markdown",
   "id": "cf207302",
   "metadata": {},
   "source": [
    "## Grouping by multiple columns\n",
    "\n",
    "Let's recall how to group by multiple columns.\n",
    "\n",
    "I can use `.groupby()` to group according to Column1, then Column2; use `.size()` to find the total number of instances of Column2 items in each Column1 category; then use `.unstack()` (with `fill_value=0`) to make a nice dataframe from this data. \n",
    "\n",
    "I created a new column in `whitman_sentences_df` called `subjectivity_category`, which reads \"Objective\" if subjectivity is zero, \"Somewhat subjective\" if subjectivity is between 0 and 0.5, \"Very subjective\" is subjectivity is between 0.5 and 1, and \"Subjective\" if subjectivity is 1. \n",
    "\n",
    "I want to find the number of instances of each subjectivity category among positive, negative, and neutral sentences. "
   ]
  },
  {
   "cell_type": "code",
   "execution_count": null,
   "id": "399d3694",
   "metadata": {
    "scrolled": true
   },
   "outputs": [],
   "source": [
    "whitman_text = open('song_of_myself.txt', encoding = 'utf-8').read() \n",
    "\n",
    "whitman_sentences_blob = TextBlob(whitman_text).sentences\n",
    "\n",
    "subjectivity_categories = []\n",
    "\n",
    "for sentence in whitman_sentences_blob:\n",
    "    \n",
    "    if sentence.subjectivity == 0:\n",
    "        subjectivity_categories.append(\"Objective\")\n",
    "        \n",
    "    elif sentence.subjectivity > 0 and sentence.subjectivity <= 0.5:\n",
    "        subjectivity_categories.append(\"Somewhat subjective\")\n",
    "        \n",
    "    elif sentence.subjectivity > 0.5 and sentence.subjectivity < 1:\n",
    "        subjectivity_categories.append(\"Very subjective\")\n",
    "        \n",
    "    else:\n",
    "        subjectivity_categories.append(\"Subjective\")\n",
    "\n",
    "whitman_sentences_df[\"subjectivity_category\"] = subjectivity_categories\n",
    "whitman_sentences_df"
   ]
  },
  {
   "cell_type": "markdown",
   "id": "1df68713",
   "metadata": {},
   "source": [
    "### Task\n",
    "\n",
    "We used the line \n",
    "\n",
    "`nytg_df.groupby(['year', 'gender_signal']).size().unstack(fill_value=0)`\n",
    "\n",
    "in lecture. Alter the line to do the following task:\n",
    "\n",
    "Group by polarity_category, then by subjectivity_category, then use the `.size()` and `.unstack()` methods to create a dataframe containing the instances of each subjectivity category among each polarity category. Put this dataframe in a variable called `whitman_grouped_df`. Then plot the data. "
   ]
  },
  {
   "cell_type": "code",
   "execution_count": null,
   "id": "033f87ff",
   "metadata": {},
   "outputs": [],
   "source": [
    "whitman_grouped_df = nytg_df.groupby(['year', 'gender_signal']).size().unstack(fill_value=0)\n",
    "whitman_grouped_df"
   ]
  },
  {
   "cell_type": "markdown",
   "id": "2e5a244c",
   "metadata": {},
   "source": [
    "## Sorting columns\n",
    "\n",
    "### Question\n",
    "\n",
    "I copy-pasted the following lines from lecture notebooks. Alter them accordingly to find the to answer these questions about `whitman_sentences_df`."
   ]
  },
  {
   "cell_type": "code",
   "execution_count": null,
   "id": "e6c0aa38",
   "metadata": {},
   "outputs": [],
   "source": [
    "# Find the top 10 sentences with lowest subjectivity. \n",
    "# (You need to slice the first ten items of the dataframe. \n",
    "# The syntax is the same as slicing lists.)\n",
    "\n",
    "csal_ttr_df.sort_values(by='Standardized TTR', ascending=False)"
   ]
  },
  {
   "cell_type": "code",
   "execution_count": null,
   "id": "c88127c1",
   "metadata": {},
   "outputs": [],
   "source": [
    "#Find the sentence with highest combined polarity and subjectivity.\n",
    "\n",
    "csal_ttr_df.sort_values(by=['Standardized TTR', \"Overall TTR\"], ascending=[True, True])"
   ]
  },
  {
   "cell_type": "code",
   "execution_count": null,
   "id": "043ff951",
   "metadata": {},
   "outputs": [],
   "source": [
    "#Find the 5 sentences with highest polarity. \n",
    "\n",
    "checkouts_df.nlargest(10, 'Checkouts')"
   ]
  },
  {
   "cell_type": "markdown",
   "id": "d81d7d51",
   "metadata": {},
   "source": [
    "# Final project and exam tips!!\n",
    "\n",
    "project:\n",
    "- Start early! If you run into problems with any coding, you don't want to be debugging at the last minute. \n",
    "- Try not to be too ambitious; you can create an interesting project within a neighbourhood of the class material. If you want to do something outside of the scope of the class, make sure you start early and ask for help from the teaching team along the way. \n",
    "\n",
    "\n",
    "exam:\n",
    "- Go through the labs and homework, clear your previous work, and redo them. \n",
    "- Create a new notebook where you can copy-paste important bits of code so you can refer to them easily. (I believe you should have access to anything uploaded to jupyterhub during the exam, but please confirm with the instructors.) Knowing how to copy-paste and alter code to your needs is a useful skill!\n",
    "\n",
    "I hope you all can see how far you've come from the first weeks of this class! I'm really proud of all of you and I wish you all best of luck with the rest of your classes!"
   ]
  }
 ],
 "metadata": {
  "kernelspec": {
   "display_name": "Python 3 (ipykernel)",
   "language": "python",
   "name": "python3"
  },
  "language_info": {
   "codemirror_mode": {
    "name": "ipython",
    "version": 3
   },
   "file_extension": ".py",
   "mimetype": "text/x-python",
   "name": "python",
   "nbconvert_exporter": "python",
   "pygments_lexer": "ipython3",
   "version": "3.11.6"
  }
 },
 "nbformat": 4,
 "nbformat_minor": 5
}
