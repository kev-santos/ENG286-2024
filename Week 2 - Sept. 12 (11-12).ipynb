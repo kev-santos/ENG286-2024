{
 "cells": [
  {
   "cell_type": "markdown",
   "id": "615ac4ee",
   "metadata": {},
   "source": [
    "# Variables\n",
    "\n",
    "Variables consist of two pieces of information: a **name** and a **value**. "
   ]
  },
  {
   "cell_type": "code",
   "execution_count": 2,
   "id": "ccf70298",
   "metadata": {},
   "outputs": [],
   "source": [
    "number = 5"
   ]
  },
  {
   "cell_type": "markdown",
   "id": "9c25441c",
   "metadata": {},
   "source": [
    "In the above code, we **assign** the value 5 to a variable whose **name** is `number`. This is called an **assignment statement**. Note that an assignment statement does not produce any output. \n",
    "\n",
    "<img src=\"variable.jpeg\" width=350>"
   ]
  },
  {
   "cell_type": "markdown",
   "id": "dc1db48f",
   "metadata": {},
   "source": [
    "In an assignment statement, Python **evaluates** the expression to the right of the `=` before assigning it."
   ]
  },
  {
   "cell_type": "code",
   "execution_count": 3,
   "id": "f1051b43",
   "metadata": {},
   "outputs": [],
   "source": [
    "number2 = 10 + 10"
   ]
  },
  {
   "cell_type": "markdown",
   "id": "9c80749b",
   "metadata": {},
   "source": [
    "To check the contents of a given variable, we can use the function `print` or just type the variable name."
   ]
  },
  {
   "cell_type": "code",
   "execution_count": 4,
   "id": "4996e3bb",
   "metadata": {
    "scrolled": true
   },
   "outputs": [
    {
     "name": "stdout",
     "output_type": "stream",
     "text": [
      "20\n"
     ]
    }
   ],
   "source": [
    "print(number2)"
   ]
  },
  {
   "cell_type": "code",
   "execution_count": 5,
   "id": "cfc869c7",
   "metadata": {},
   "outputs": [
    {
     "data": {
      "text/plain": [
       "20"
      ]
     },
     "execution_count": 5,
     "metadata": {},
     "output_type": "execute_result"
    }
   ],
   "source": [
    "number2"
   ]
  },
  {
   "cell_type": "markdown",
   "id": "12c25b67",
   "metadata": {},
   "source": [
    "**Why do we use variables?** Variables are useful if you want to use or modify the same value over and over again. Variables also help make your code more **readable**."
   ]
  },
  {
   "cell_type": "markdown",
   "id": "b53356ef",
   "metadata": {},
   "source": [
    "## Word of Caution! Re-assigning Variables\n",
    "\n",
    "Python does not give an error if you try to assign a new value to a variable with an existing name. Make sure you don't accidentally reuse or reassign existing variables!"
   ]
  },
  {
   "cell_type": "code",
   "execution_count": 6,
   "id": "b8f9aed7",
   "metadata": {},
   "outputs": [],
   "source": [
    "gpa = 4.0"
   ]
  },
  {
   "cell_type": "code",
   "execution_count": 7,
   "id": "5516b787",
   "metadata": {},
   "outputs": [],
   "source": [
    "gpa = 3.7"
   ]
  },
  {
   "cell_type": "code",
   "execution_count": 8,
   "id": "33fbbeb9",
   "metadata": {},
   "outputs": [
    {
     "name": "stdout",
     "output_type": "stream",
     "text": [
      "3.7\n"
     ]
    }
   ],
   "source": [
    "print(gpa)"
   ]
  },
  {
   "cell_type": "markdown",
   "id": "647c7475",
   "metadata": {},
   "source": [
    "## Word of Caution! Spell Variable Names Correctly\n",
    "\n",
    "Variable names are **case-sensitive.**\n"
   ]
  },
  {
   "cell_type": "code",
   "execution_count": 9,
   "id": "ec0cde64",
   "metadata": {
    "scrolled": false
   },
   "outputs": [
    {
     "ename": "NameError",
     "evalue": "name 'GPA' is not defined",
     "output_type": "error",
     "traceback": [
      "\u001b[0;31m---------------------------------------------------------------------------\u001b[0m",
      "\u001b[0;31mNameError\u001b[0m                                 Traceback (most recent call last)",
      "Cell \u001b[0;32mIn[9], line 1\u001b[0m\n\u001b[0;32m----> 1\u001b[0m \u001b[38;5;28mprint\u001b[39m(\u001b[43mGPA\u001b[49m)\n",
      "\u001b[0;31mNameError\u001b[0m: name 'GPA' is not defined"
     ]
    }
   ],
   "source": [
    "print(GPA)"
   ]
  },
  {
   "cell_type": "markdown",
   "id": "a710d769",
   "metadata": {},
   "source": [
    "The above is a very common error (one I personally run into a lot) that can result from a simple typo. "
   ]
  },
  {
   "cell_type": "code",
   "execution_count": 10,
   "id": "cb74b074",
   "metadata": {},
   "outputs": [
    {
     "ename": "NameError",
     "evalue": "name 'Number' is not defined",
     "output_type": "error",
     "traceback": [
      "\u001b[0;31m---------------------------------------------------------------------------\u001b[0m",
      "\u001b[0;31mNameError\u001b[0m                                 Traceback (most recent call last)",
      "Cell \u001b[0;32mIn[10], line 1\u001b[0m\n\u001b[0;32m----> 1\u001b[0m \u001b[38;5;28mprint\u001b[39m(\u001b[43mNumber\u001b[49m)\n",
      "\u001b[0;31mNameError\u001b[0m: name 'Number' is not defined"
     ]
    }
   ],
   "source": [
    "print(Number)"
   ]
  },
  {
   "cell_type": "markdown",
   "id": "092fa0d5",
   "metadata": {},
   "source": [
    "## Naming Variables\n",
    "Python variables are usually written in \"`snake_case`\" or \"`pothole_case`\", i.e. in **all lowercase with underscores separating words**. You should try to make sure your variable names are **descriptive**, so that you can easily keep track of them. `number` isn't generally a good variable name, but `average_words` might be. "
   ]
  },
  {
   "cell_type": "markdown",
   "id": "951e8e9f",
   "metadata": {},
   "source": [
    "## Example/Exercise: Area of a Rectangle\n",
    "\n",
    "<img src=\"area.jpeg\" width=600>"
   ]
  },
  {
   "cell_type": "code",
   "execution_count": 13,
   "id": "1ab4cb67",
   "metadata": {},
   "outputs": [
    {
     "name": "stdout",
     "output_type": "stream",
     "text": [
      "6\n",
      "12\n"
     ]
    }
   ],
   "source": [
    "length = 2\n",
    "width = 3\n",
    "area = length * width\n",
    "\n",
    "length = 4\n",
    "\n",
    "print(area)\n",
    "\n",
    "area = length * width\n",
    "\n",
    "print(area)\n",
    "\n",
    "#What happens if I add the following line of code to the end?\n",
    "\n"
   ]
  },
  {
   "cell_type": "markdown",
   "id": "7b417202",
   "metadata": {},
   "source": [
    "# Types\n",
    "The main data types we will deal with include \n",
    "- integers `int` (whole numbers)\n",
    "    - e.g. 0, 2, 365\n",
    "- floats `float` (decimals)\n",
    "    - e.g. 3.141, 2.718, 3.0\n",
    "- strings `str` (pieces of text)\n",
    "    - e.g. \"I don't know\", \"Hello world\"\n",
    "- booleans `bool` (True or False values) \n",
    "\n",
    "(I like learning the etymologies of words so I can remember them better!)\n",
    "- \"Integer\" has the same root as \"entire\" or \"integrity\", signifying wholeness.\n",
    "- \"Float\" is short for \"floating point number\", which is how decimal numbers are implemented by computers. The \"floating point\" is the decimal point, which can be placed anywhere.\n",
    "- A \"string\" is literally a string of characters.\n",
    "- \"Booleans\" are named after George Boole, who was a pioneer in a field of math/comp sci known as logic. "
   ]
  },
  {
   "cell_type": "markdown",
   "id": "88030a09",
   "metadata": {},
   "source": [
    "# Functions\n",
    "\n",
    "You can think of functions as transitive verbs that take an object (as an input) and act on it (to produce an output).\n",
    "\n",
    "A function takes an **argument** as an input and produces an output. The syntax is `function(argument)`. \n",
    "\n",
    "<img src=\"function_machine.png\" width=\"300\">\n",
    "\n",
    "Pro-tip: Python evaluates the arguments before applying the function. "
   ]
  },
  {
   "cell_type": "code",
   "execution_count": 14,
   "id": "37204e24",
   "metadata": {},
   "outputs": [
    {
     "data": {
      "text/plain": [
       "int"
      ]
     },
     "execution_count": 14,
     "metadata": {},
     "output_type": "execute_result"
    }
   ],
   "source": [
    "type(80)"
   ]
  },
  {
   "cell_type": "code",
   "execution_count": 15,
   "id": "7f524f23",
   "metadata": {},
   "outputs": [
    {
     "data": {
      "text/plain": [
       "5"
      ]
     },
     "execution_count": 15,
     "metadata": {},
     "output_type": "execute_result"
    }
   ],
   "source": [
    "max(2, 3, 4, 5)"
   ]
  },
  {
   "cell_type": "code",
   "execution_count": 16,
   "id": "9a244a2d",
   "metadata": {},
   "outputs": [
    {
     "data": {
      "text/plain": [
       "15"
      ]
     },
     "execution_count": 16,
     "metadata": {},
     "output_type": "execute_result"
    }
   ],
   "source": [
    "num1 = 10\n",
    "num2 = 5\n",
    "num3 = 2\n",
    "\n",
    "max(num1 + num2, num2 + num3, num1 + num3)"
   ]
  },
  {
   "cell_type": "code",
   "execution_count": 17,
   "id": "ee34a5d2",
   "metadata": {},
   "outputs": [
    {
     "data": {
      "text/plain": [
       "'80'"
      ]
     },
     "execution_count": 17,
     "metadata": {},
     "output_type": "execute_result"
    }
   ],
   "source": [
    "str(80)"
   ]
  },
  {
   "cell_type": "markdown",
   "id": "616526d2",
   "metadata": {},
   "source": [
    "You can even define your own functions! (Don't worry, you don't need to know how to do this yourself. This is just an illustrative example.)"
   ]
  },
  {
   "cell_type": "code",
   "execution_count": 18,
   "id": "16c5695d",
   "metadata": {},
   "outputs": [],
   "source": [
    "def double(input):\n",
    "    \"\"\" Takes the input and multiplies it by 2; outputs the result. \"\"\"\n",
    "    return input * 2 "
   ]
  },
  {
   "cell_type": "code",
   "execution_count": 19,
   "id": "76bb8420",
   "metadata": {
    "scrolled": true
   },
   "outputs": [
    {
     "data": {
      "text/plain": [
       "10"
      ]
     },
     "execution_count": 19,
     "metadata": {},
     "output_type": "execute_result"
    }
   ],
   "source": [
    "double(5)"
   ]
  },
  {
   "cell_type": "code",
   "execution_count": 20,
   "id": "ea468ca3",
   "metadata": {},
   "outputs": [
    {
     "data": {
      "text/plain": [
       "'thingthing'"
      ]
     },
     "execution_count": 20,
     "metadata": {},
     "output_type": "execute_result"
    }
   ],
   "source": [
    "double(\"thing\")"
   ]
  },
  {
   "cell_type": "code",
   "execution_count": 21,
   "id": "3dd47550",
   "metadata": {},
   "outputs": [],
   "source": [
    "def addtwo(input):\n",
    "    \"\"\" Takes the input and adds 2 to it; outputs the result. \"\"\"\n",
    "    return input + 2"
   ]
  },
  {
   "cell_type": "code",
   "execution_count": 22,
   "id": "48664c65",
   "metadata": {},
   "outputs": [
    {
     "data": {
      "text/plain": [
       "7"
      ]
     },
     "execution_count": 22,
     "metadata": {},
     "output_type": "execute_result"
    }
   ],
   "source": [
    "addtwo(5)"
   ]
  },
  {
   "cell_type": "code",
   "execution_count": 23,
   "id": "2e7fa454",
   "metadata": {},
   "outputs": [
    {
     "ename": "TypeError",
     "evalue": "can only concatenate str (not \"int\") to str",
     "output_type": "error",
     "traceback": [
      "\u001b[0;31m---------------------------------------------------------------------------\u001b[0m",
      "\u001b[0;31mTypeError\u001b[0m                                 Traceback (most recent call last)",
      "Cell \u001b[0;32mIn[23], line 1\u001b[0m\n\u001b[0;32m----> 1\u001b[0m \u001b[43maddtwo\u001b[49m\u001b[43m(\u001b[49m\u001b[38;5;124;43m\"\u001b[39;49m\u001b[38;5;124;43mthing\u001b[39;49m\u001b[38;5;124;43m\"\u001b[39;49m\u001b[43m)\u001b[49m\n",
      "Cell \u001b[0;32mIn[21], line 3\u001b[0m, in \u001b[0;36maddtwo\u001b[0;34m(input)\u001b[0m\n\u001b[1;32m      1\u001b[0m \u001b[38;5;28;01mdef\u001b[39;00m \u001b[38;5;21maddtwo\u001b[39m(\u001b[38;5;28minput\u001b[39m):\n\u001b[1;32m      2\u001b[0m \u001b[38;5;250m    \u001b[39m\u001b[38;5;124;03m\"\"\" Takes the input and adds 2 to it; outputs the result. \"\"\"\u001b[39;00m\n\u001b[0;32m----> 3\u001b[0m     \u001b[38;5;28;01mreturn\u001b[39;00m \u001b[38;5;28;43minput\u001b[39;49m\u001b[43m \u001b[49m\u001b[38;5;241;43m+\u001b[39;49m\u001b[43m \u001b[49m\u001b[38;5;241;43m2\u001b[39;49m\n",
      "\u001b[0;31mTypeError\u001b[0m: can only concatenate str (not \"int\") to str"
     ]
    }
   ],
   "source": [
    "addtwo(\"thing\")"
   ]
  },
  {
   "cell_type": "markdown",
   "id": "b8d54a4d",
   "metadata": {},
   "source": [
    "# Operators\n",
    "\n"
   ]
  },
  {
   "cell_type": "markdown",
   "id": "dc2a601b",
   "metadata": {},
   "source": [
    "Like functions, operators take inputs and produce outputs. However, the syntax is a bit different. The inputs go on either side of the operator, such as `2 + 2`. \n",
    "\n",
    "We have seen mathematical operators, which take in numbers and output numbers, but the **comparison operators** are also important:\n",
    "- `==`\n",
    "- `!=`\n",
    "- `>`\n",
    "- `<`\n",
    "- `>=`\n",
    "- `<=`\n",
    "\n",
    "It is important to **understand the difference between `=` and `==`**. `=` is used to assign a variable, but `==` is used to check if two things are the same. \n",
    "\n",
    "An assignment statement with `=` does not produce an output, but a comparison statement with `==` does. \n",
    "\n",
    "As with functions, Python evaluates both sides of the operator before applying the operator. "
   ]
  },
  {
   "cell_type": "code",
   "execution_count": 24,
   "id": "0bc6b34d",
   "metadata": {},
   "outputs": [],
   "source": [
    "name = \"Kevin\""
   ]
  },
  {
   "cell_type": "code",
   "execution_count": 25,
   "id": "6700873e",
   "metadata": {},
   "outputs": [
    {
     "data": {
      "text/plain": [
       "True"
      ]
     },
     "execution_count": 25,
     "metadata": {},
     "output_type": "execute_result"
    }
   ],
   "source": [
    "name == \"Kevin\""
   ]
  },
  {
   "cell_type": "code",
   "execution_count": 26,
   "id": "2ca13254",
   "metadata": {},
   "outputs": [
    {
     "data": {
      "text/plain": [
       "False"
      ]
     },
     "execution_count": 26,
     "metadata": {},
     "output_type": "execute_result"
    }
   ],
   "source": [
    "name == \"Jevin\""
   ]
  },
  {
   "cell_type": "code",
   "execution_count": 27,
   "id": "d9066028",
   "metadata": {},
   "outputs": [
    {
     "data": {
      "text/plain": [
       "False"
      ]
     },
     "execution_count": 27,
     "metadata": {},
     "output_type": "execute_result"
    }
   ],
   "source": [
    "#\"Are these two things the same?\"\n",
    "80 == \"80\""
   ]
  },
  {
   "cell_type": "code",
   "execution_count": 28,
   "id": "c6965dad",
   "metadata": {},
   "outputs": [
    {
     "data": {
      "text/plain": [
       "True"
      ]
     },
     "execution_count": 28,
     "metadata": {},
     "output_type": "execute_result"
    }
   ],
   "source": [
    "#\"Are these two things different?\"\n",
    "80 != \"80\""
   ]
  },
  {
   "cell_type": "code",
   "execution_count": 29,
   "id": "7d681742",
   "metadata": {},
   "outputs": [
    {
     "data": {
      "text/plain": [
       "int"
      ]
     },
     "execution_count": 29,
     "metadata": {},
     "output_type": "execute_result"
    }
   ],
   "source": [
    "type(80)"
   ]
  },
  {
   "cell_type": "code",
   "execution_count": 30,
   "id": "f4ef2b7b",
   "metadata": {},
   "outputs": [
    {
     "data": {
      "text/plain": [
       "str"
      ]
     },
     "execution_count": 30,
     "metadata": {},
     "output_type": "execute_result"
    }
   ],
   "source": [
    "type(\"80\")"
   ]
  },
  {
   "cell_type": "markdown",
   "id": "22721b02",
   "metadata": {},
   "source": [
    "Experiment! Play around with the tools you have. Try combining things in unexpected ways. See what happens if you try to break the rules. "
   ]
  },
  {
   "cell_type": "code",
   "execution_count": 31,
   "id": "dfbc911a",
   "metadata": {},
   "outputs": [
    {
     "data": {
      "text/plain": [
       "True"
      ]
     },
     "execution_count": 31,
     "metadata": {},
     "output_type": "execute_result"
    }
   ],
   "source": [
    "\"star\" == \"star\""
   ]
  },
  {
   "cell_type": "code",
   "execution_count": 32,
   "id": "c7ae3a17",
   "metadata": {},
   "outputs": [
    {
     "ename": "TypeError",
     "evalue": "'>=' not supported between instances of 'str' and 'int'",
     "output_type": "error",
     "traceback": [
      "\u001b[0;31m---------------------------------------------------------------------------\u001b[0m",
      "\u001b[0;31mTypeError\u001b[0m                                 Traceback (most recent call last)",
      "Cell \u001b[0;32mIn[32], line 1\u001b[0m\n\u001b[0;32m----> 1\u001b[0m \u001b[38;5;124;43m\"\u001b[39;49m\u001b[38;5;124;43mstar\u001b[39;49m\u001b[38;5;124;43m\"\u001b[39;49m\u001b[43m \u001b[49m\u001b[38;5;241;43m>\u001b[39;49m\u001b[38;5;241;43m=\u001b[39;49m\u001b[43m \u001b[49m\u001b[38;5;241;43m80\u001b[39;49m\n",
      "\u001b[0;31mTypeError\u001b[0m: '>=' not supported between instances of 'str' and 'int'"
     ]
    }
   ],
   "source": [
    "\"star\" >= 80"
   ]
  },
  {
   "cell_type": "code",
   "execution_count": 33,
   "id": "f06032fd",
   "metadata": {},
   "outputs": [
    {
     "data": {
      "text/plain": [
       "True"
      ]
     },
     "execution_count": 33,
     "metadata": {},
     "output_type": "execute_result"
    }
   ],
   "source": [
    "4.5 > 3"
   ]
  },
  {
   "cell_type": "code",
   "execution_count": 34,
   "id": "13a548ad",
   "metadata": {},
   "outputs": [
    {
     "ename": "TypeError",
     "evalue": "'>=' not supported between instances of 'bool' and 'str'",
     "output_type": "error",
     "traceback": [
      "\u001b[0;31m---------------------------------------------------------------------------\u001b[0m",
      "\u001b[0;31mTypeError\u001b[0m                                 Traceback (most recent call last)",
      "Cell \u001b[0;32mIn[34], line 1\u001b[0m\n\u001b[0;32m----> 1\u001b[0m \u001b[38;5;28;43;01mTrue\u001b[39;49;00m\u001b[43m \u001b[49m\u001b[38;5;241;43m>\u001b[39;49m\u001b[38;5;241;43m=\u001b[39;49m\u001b[43m \u001b[49m\u001b[38;5;124;43m\"\u001b[39;49m\u001b[38;5;124;43mTrue\u001b[39;49m\u001b[38;5;124;43m\"\u001b[39;49m\n",
      "\u001b[0;31mTypeError\u001b[0m: '>=' not supported between instances of 'bool' and 'str'"
     ]
    }
   ],
   "source": [
    "True >= \"True\""
   ]
  },
  {
   "cell_type": "code",
   "execution_count": 35,
   "id": "2354b0a2",
   "metadata": {},
   "outputs": [
    {
     "data": {
      "text/plain": [
       "True"
      ]
     },
     "execution_count": 35,
     "metadata": {},
     "output_type": "execute_result"
    }
   ],
   "source": [
    "\"star\" >= \"arts\""
   ]
  },
  {
   "cell_type": "code",
   "execution_count": 40,
   "id": "2bca2040",
   "metadata": {},
   "outputs": [
    {
     "data": {
      "text/plain": [
       "True"
      ]
     },
     "execution_count": 40,
     "metadata": {},
     "output_type": "execute_result"
    }
   ],
   "source": [
    "\"s\" > \"art\""
   ]
  }
 ],
 "metadata": {
  "kernelspec": {
   "display_name": "Python 3 (ipykernel)",
   "language": "python",
   "name": "python3"
  },
  "language_info": {
   "codemirror_mode": {
    "name": "ipython",
    "version": 3
   },
   "file_extension": ".py",
   "mimetype": "text/x-python",
   "name": "python",
   "nbconvert_exporter": "python",
   "pygments_lexer": "ipython3",
   "version": "3.11.6"
  }
 },
 "nbformat": 4,
 "nbformat_minor": 5
}
