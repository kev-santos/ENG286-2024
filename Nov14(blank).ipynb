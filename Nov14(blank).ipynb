{
 "cells": [
  {
   "cell_type": "code",
   "execution_count": 1,
   "id": "77295025",
   "metadata": {
    "scrolled": false
   },
   "outputs": [],
   "source": [
    "import pandas as pd\n",
    "\n",
    "checkouts_df = pd.read_csv('seattle_checkouts.csv')\n",
    "checkouts2020_df = pd.read_csv('seattle_checkouts_2020.csv')"
   ]
  },
  {
   "cell_type": "code",
   "execution_count": null,
   "id": "3aca5857",
   "metadata": {
    "scrolled": true
   },
   "outputs": [],
   "source": [
    "checkouts2020_df"
   ]
  },
  {
   "cell_type": "markdown",
   "id": "ea47b96a",
   "metadata": {},
   "source": [
    "# Plotting charts"
   ]
  },
  {
   "cell_type": "markdown",
   "id": "d50ac488",
   "metadata": {},
   "source": [
    "See https://pandas.pydata.org/docs/reference/api/pandas.DataFrame.plot.html for parameters you can use to plot charts. "
   ]
  },
  {
   "cell_type": "markdown",
   "id": "88abac35",
   "metadata": {},
   "source": [
    "Summary of the following:\n",
    "\n",
    "- Charts should have a title and axis labels. Use the parameters `title`, `xlabel`, and `ylabel` to specify these.\n",
    "- You can rotate the x-axis labels using `rot=0.0`.\n",
    "- There are ways to select just the categories that you are interested in, e.g. `checkout_types_per_month_df[['BOOK','AUDIOBOOK', 'EBOOK']]`. You should justify why you're only looking at those categories, though. \n",
    "- Choose a plot that best matches your data and your intentions. For example, pie plots are appropriate for some data, but not for others (e.g. if you have a lot of categories, it becomes difficult to distinguish proportions in a pie plot). Line plots are good for tracking changes across time. "
   ]
  },
  {
   "cell_type": "code",
   "execution_count": null,
   "id": "82f00577",
   "metadata": {},
   "outputs": [],
   "source": [
    "checkout_types = checkouts_df['MaterialType'].value_counts()\n",
    "checkout_types"
   ]
  },
  {
   "cell_type": "code",
   "execution_count": null,
   "id": "6c5b1e92",
   "metadata": {
    "scrolled": true
   },
   "outputs": [],
   "source": [
    "checkout_types.plot(kind=\"bar\", figsize=(7,5))"
   ]
  },
  {
   "cell_type": "code",
   "execution_count": null,
   "id": "878cc11b",
   "metadata": {
    "scrolled": false
   },
   "outputs": [],
   "source": [
    "#Let's eliminate the extraneous categories. \n",
    "#We can use the .loc method:\n",
    "filtered_checkout_types = checkout_types.loc[['EBOOK', 'BOOK', 'AUDIOBOOK']]\n",
    "filtered_checkout_types.plot(kind=\"bar\", figsize=(6,4), xlabel='Type of material')"
   ]
  },
  {
   "cell_type": "code",
   "execution_count": null,
   "id": "71bb640a",
   "metadata": {},
   "outputs": [],
   "source": [
    "# We can rotate the x-axis labels!\n",
    "filtered_checkout_types.plot(kind=\"bar\", figsize=(7,5), xlabel='Type of material', ylabel = 'Number of Checkouts', rot=0.0)"
   ]
  },
  {
   "cell_type": "markdown",
   "id": "7f7f8345",
   "metadata": {},
   "source": [
    "Plotting bar graphs with multiple categories:\n",
    "\n",
    "**Question**\n",
    "\n",
    "Explain what the data in the below dataframe represents. "
   ]
  },
  {
   "cell_type": "code",
   "execution_count": null,
   "id": "c36ad436",
   "metadata": {
    "scrolled": true
   },
   "outputs": [],
   "source": [
    "checkout_types_per_month_df = checkouts2020_df.groupby(['CheckoutMonth', 'MaterialType']).size().unstack(fill_value=0)\n",
    "checkout_types_per_month_df"
   ]
  },
  {
   "cell_type": "markdown",
   "id": "947333cc",
   "metadata": {
    "slideshow": {
     "slide_type": "slide"
    }
   },
   "source": [
    "If I do the following I get an unreadable mess:"
   ]
  },
  {
   "cell_type": "code",
   "execution_count": null,
   "id": "1bd26f35",
   "metadata": {
    "scrolled": true
   },
   "outputs": [],
   "source": [
    "checkout_types_per_month_df.plot(kind='bar')"
   ]
  },
  {
   "cell_type": "markdown",
   "id": "63542b80",
   "metadata": {},
   "source": [
    "Instead, I can isolate just the columns I want. "
   ]
  },
  {
   "cell_type": "code",
   "execution_count": null,
   "id": "7aa682e6",
   "metadata": {
    "scrolled": false
   },
   "outputs": [],
   "source": [
    "checkout_types_per_month_df[['BOOK','AUDIOBOOK', 'EBOOK']].plot(kind='bar', \\\n",
    "                                                                color = ['purple', 'red', 'pink'], \\\n",
    "                                                                title='Instances of Material Types Checked Out per Month', \\\n",
    "                                                                ylabel='Number of Checkouts')"
   ]
  },
  {
   "cell_type": "code",
   "execution_count": null,
   "id": "41f9fb47",
   "metadata": {},
   "outputs": [],
   "source": [
    "#What are some advantages or disadvantages of presenting a stacked plot?\n",
    "checkout_types_per_month_df[['BOOK','AUDIOBOOK', 'EBOOK']].plot(kind='bar', \\\n",
    "                                                                color = ['purple', 'red', 'pink'], \\\n",
    "                                                                 title='Instances of Material Types Checked Out per Month',\\\n",
    "                                                                stacked = True)"
   ]
  },
  {
   "cell_type": "markdown",
   "id": "0f94585d",
   "metadata": {},
   "source": [
    "## Pie plots"
   ]
  },
  {
   "cell_type": "markdown",
   "id": "9727c5cd",
   "metadata": {},
   "source": [
    "Here, I'm adding an extra column called `Fiction` in the dataframe. The `Fiction` value is True if \"Fiction\" is listed as a subject in the corresponding work."
   ]
  },
  {
   "cell_type": "code",
   "execution_count": null,
   "id": "8463cab3",
   "metadata": {},
   "outputs": [],
   "source": [
    "checkouts2020_df['Fiction'] = checkouts2020_df['Subjects'].str.contains('Fiction')\n",
    "checkouts2020_df"
   ]
  },
  {
   "cell_type": "code",
   "execution_count": null,
   "id": "2682f6d6",
   "metadata": {
    "scrolled": false
   },
   "outputs": [],
   "source": [
    "checkouts2020_df['Fiction'].value_counts().plot(kind=\"pie\")"
   ]
  },
  {
   "cell_type": "markdown",
   "id": "3b7e86e7",
   "metadata": {},
   "source": [
    "## Line plots"
   ]
  },
  {
   "cell_type": "markdown",
   "id": "0c3ab3f9",
   "metadata": {},
   "source": [
    "Here, I'm tracking the number of Fiction vs. Nonfiction works checked out in each month."
   ]
  },
  {
   "cell_type": "code",
   "execution_count": null,
   "id": "cd0c8aba",
   "metadata": {
    "scrolled": false
   },
   "outputs": [],
   "source": [
    "checkouts_fiction_per_month_df = checkouts2020_df.groupby(['CheckoutMonth', 'Fiction']).size().unstack()\n",
    "checkouts_fiction_per_month_df.plot(kind='line', xticks=[1,2,3,4,5,6,7,8,9,10,11,12], ylabel='Number of Checkouts')"
   ]
  },
  {
   "cell_type": "code",
   "execution_count": null,
   "id": "11ead293",
   "metadata": {},
   "outputs": [],
   "source": [
    "#We can also isolate certain categories we want.\n",
    "checkout_types_per_month_df[['BOOK']].plot(kind='line')"
   ]
  },
  {
   "cell_type": "markdown",
   "id": "c15f3fc2",
   "metadata": {},
   "source": [
    "# Python dictionaries"
   ]
  },
  {
   "cell_type": "markdown",
   "id": "fa716c2c",
   "metadata": {},
   "source": [
    "Python dictionaries allow us to store data in pairs. This will be useful because we can define dataframes using dictionaries. \n",
    "\n",
    "```\n",
    "example_dict = {\n",
    "   'key1': value1,\n",
    "   'key2': value2,\n",
    "   'key3': value3,\n",
    "}\n",
    "```\n",
    "\n",
    "Note:\n",
    "- Keys are `string`s; values can be of any data type.\n",
    "- Note that a `,` comes between each key-value pair your define\n",
    "- You don't need to arrange things like this typographically, with key-value pairs each on their own line, but it does make things look prettier\n",
    "- **Order** does not matter in dictionaries, only the key"
   ]
  },
  {
   "cell_type": "markdown",
   "id": "19b1cdb3",
   "metadata": {},
   "source": [
    "## Accessing items in a dictionary\n",
    "\n",
    "I can index a list using square brackets to get a specific entry in the list.\n",
    "\n",
    "However, I can index a dictionary using the name of a key. This gives me the value associated with that key. "
   ]
  },
  {
   "cell_type": "code",
   "execution_count": null,
   "id": "f3ed6e57",
   "metadata": {},
   "outputs": [],
   "source": [
    "writers_list = [\"William Shakespeare\", \"Jane Austen\", \"Leo Tolstoy\", \"Gabriel Garcia Marquez\", \"Margaret Atwood\"]\n",
    "writers_list[2]"
   ]
  },
  {
   "cell_type": "code",
   "execution_count": null,
   "id": "958ed440",
   "metadata": {
    "scrolled": true
   },
   "outputs": [],
   "source": [
    "writers_dict = {\n",
    "    \"William Shakespeare\": 1564,\n",
    "    \"Jane Austen\": 1775,\n",
    "    \"Leo Tolstoy\": 1828,\n",
    "    \"Gabriel Garcia Marquez\": 1927,\n",
    "    \"Margaret Atwood\": 1939,\n",
    "}\n",
    "\n",
    "writers_dict[\"Leo Tolstoy\"]"
   ]
  },
  {
   "cell_type": "markdown",
   "id": "32c18684",
   "metadata": {},
   "source": [
    "The order of items in a dictionary doesn't matter, so I can't access items using a numerical index:"
   ]
  },
  {
   "cell_type": "code",
   "execution_count": null,
   "id": "29d69f6f",
   "metadata": {},
   "outputs": [],
   "source": [
    "writers_dict[2]"
   ]
  },
  {
   "cell_type": "markdown",
   "id": "222241f4",
   "metadata": {},
   "source": [
    "**Question**\n",
    "\n",
    "Run the first cell to create the variable `example_dict`. Predict the outputs of the following cells, then run them to check."
   ]
  },
  {
   "cell_type": "code",
   "execution_count": null,
   "id": "dbf36315",
   "metadata": {},
   "outputs": [],
   "source": [
    "example_dict = {\n",
    "    'First Name': 'Walt',\n",
    "    'Last Name': 'Whitman',\n",
    "    'Born': 1819,\n",
    "    'Died': 1892,\n",
    "    'Major Work': 'Leaves of Grass',\n",
    "    'Genre': 'Poetry',\n",
    "    'Movements': ['Transcendentalism', 'Realism', 'Free verse'],\n",
    "    'Contemporaries': ['Oscar Wilde', 'Henry David Thoreau', 'Bram Stoker']\n",
    "}"
   ]
  },
  {
   "cell_type": "code",
   "execution_count": null,
   "id": "6e01b0d5",
   "metadata": {},
   "outputs": [],
   "source": [
    "example_dict['Genre']"
   ]
  },
  {
   "cell_type": "code",
   "execution_count": null,
   "id": "20b21853",
   "metadata": {},
   "outputs": [],
   "source": [
    "type(example_dict['Born'])"
   ]
  },
  {
   "cell_type": "code",
   "execution_count": null,
   "id": "88a134ed",
   "metadata": {},
   "outputs": [],
   "source": [
    "example_dict[1892]"
   ]
  },
  {
   "cell_type": "code",
   "execution_count": null,
   "id": "8ded6bf6",
   "metadata": {},
   "outputs": [],
   "source": [
    "type(example_dict['Movements'])"
   ]
  },
  {
   "cell_type": "code",
   "execution_count": null,
   "id": "f5875a97",
   "metadata": {},
   "outputs": [],
   "source": [
    "example_dict['Contemporaries'][1]"
   ]
  },
  {
   "cell_type": "markdown",
   "id": "32c18f37",
   "metadata": {},
   "source": [
    "**Question**\n",
    "\n",
    "What does the .keys() method output? It outputs a list, but what does the list contain? \n",
    "\n",
    "What does the .values() method output? It outputs a list, but what does the list contain? "
   ]
  },
  {
   "cell_type": "code",
   "execution_count": null,
   "id": "9a7f1681",
   "metadata": {
    "scrolled": true
   },
   "outputs": [],
   "source": [
    "writers_dict.keys()"
   ]
  },
  {
   "cell_type": "code",
   "execution_count": null,
   "id": "de4ef0df",
   "metadata": {
    "scrolled": true
   },
   "outputs": [],
   "source": [
    "writers_dict.values()"
   ]
  },
  {
   "cell_type": "code",
   "execution_count": null,
   "id": "270ba3ca",
   "metadata": {},
   "outputs": [],
   "source": []
  },
  {
   "cell_type": "markdown",
   "id": "ccaff958",
   "metadata": {},
   "source": [
    "## Making a pandas DataFrame from a dictionary\n",
    "\n",
    "I can create a dataframe from a dictionary using the ``DataFrame`` function in the pandas library. I input a dictionary to the ``DataFrame`` function where the **keys** are the names of the column and the corresponding **values** are **lists** containing all the values in that column. "
   ]
  },
  {
   "cell_type": "code",
   "execution_count": null,
   "id": "36056d7d",
   "metadata": {
    "scrolled": true
   },
   "outputs": [],
   "source": [
    "import pandas as pd\n",
    "name_list = [\"apple\", \"banana\", \"blueberry\", \"mango\", \"avocado\", \"grape\"]\n",
    "name_length_list = [5, 6, 9, 5, 7, 5]\n",
    "colour_list = [\"red\", \"yellow\", \"blue\", \"orange\", \"green\", \"purple\"]\n",
    "\n",
    "fruits_df = pd.DataFrame({\n",
    "    'Name': name_list,\n",
    "    'Name Length': name_length_list,\n",
    "    'Colour': colour_list\n",
    "})\n",
    "fruits_df"
   ]
  },
  {
   "cell_type": "code",
   "execution_count": null,
   "id": "bf35791e",
   "metadata": {},
   "outputs": [],
   "source": [
    "#What happens if we try to break it?\n",
    "name_list = [\"apple\", \"banana\", \"blueberry\", \"mango\", \"avocado\", \"grape\"]\n",
    "name_length_list = [5, 6, 9, 5, 7, 5, 5, 7, 5]\n",
    "colour_list = [\"red\", \"yellow\", \"blue\", \"orange\", \"green\", \"purple\"]\n",
    "\n",
    "fruits_df = pd.DataFrame({\n",
    "    'Name': name_list,\n",
    "    'Name Length': name_length_list,\n",
    "    'Colour': colour_list\n",
    "})\n",
    "fruits_df"
   ]
  },
  {
   "cell_type": "markdown",
   "id": "bfe0305b",
   "metadata": {},
   "source": [
    "# Sentiment analysis"
   ]
  },
  {
   "cell_type": "markdown",
   "id": "c7d1b158",
   "metadata": {},
   "source": [
    "## Polarity\n",
    "\n",
    "In order to do sentiment analysis to a piece of text, I must first convert it into a blob object using the ``TextBlob`` function. Then I can obtain the polarity, subjectivity, etc. of that piece of text. "
   ]
  },
  {
   "cell_type": "code",
   "execution_count": null,
   "id": "5aad3b5b",
   "metadata": {},
   "outputs": [],
   "source": [
    "from textblob import TextBlob"
   ]
  },
  {
   "cell_type": "code",
   "execution_count": null,
   "id": "c7cd2d2f",
   "metadata": {},
   "outputs": [],
   "source": [
    "whitman_sentence = \"I celebrate myself, and sing myself, \\\n",
    "         And what I assume you shall assume, \\\n",
    "         For every atom belonging to me as good belongs to you.\""
   ]
  },
  {
   "cell_type": "code",
   "execution_count": null,
   "id": "7947154b",
   "metadata": {},
   "outputs": [],
   "source": [
    "# Convert into a blob object\n",
    "\n",
    "whitman_sentence_blob = TextBlob(\"I celebrate myself, and sing myself, \\\n",
    "         And what I assume you shall assume, \\\n",
    "         For every atom belonging to me as good belongs to you.\")"
   ]
  },
  {
   "cell_type": "markdown",
   "id": "54028510",
   "metadata": {},
   "source": [
    "**Question**\n",
    "\n",
    "Why does the following give an error?"
   ]
  },
  {
   "cell_type": "code",
   "execution_count": null,
   "id": "22b2cbd2",
   "metadata": {
    "scrolled": false
   },
   "outputs": [],
   "source": [
    "whitman_sentence.polarity"
   ]
  },
  {
   "cell_type": "markdown",
   "id": "25cf25c0",
   "metadata": {},
   "source": [
    "**Question**\n",
    "\n",
    "Let's try to understand how polarity is calculated. Why is the polarity of ``whitman_sentence_blob`` 0.7?"
   ]
  },
  {
   "cell_type": "code",
   "execution_count": null,
   "id": "58414b40",
   "metadata": {
    "scrolled": true
   },
   "outputs": [],
   "source": [
    "print(whitman_sentence_blob)\n",
    "print(whitman_sentence_blob.polarity)"
   ]
  },
  {
   "cell_type": "markdown",
   "id": "a1915ced",
   "metadata": {},
   "source": [
    "What is the code below doing? What does it tell us about where the 0.7 value comes from?"
   ]
  },
  {
   "cell_type": "code",
   "execution_count": null,
   "id": "733520ba",
   "metadata": {
    "scrolled": true
   },
   "outputs": [],
   "source": [
    "\n",
    "for word in whitman_sentence.split(\" \"):\n",
    "    print(TextBlob(word).polarity)"
   ]
  },
  {
   "cell_type": "markdown",
   "id": "803cc31e",
   "metadata": {},
   "source": [
    "Consider the polarity of certain words:"
   ]
  },
  {
   "cell_type": "code",
   "execution_count": null,
   "id": "71afdace",
   "metadata": {},
   "outputs": [],
   "source": [
    "TextBlob(\"happy\").polarity"
   ]
  },
  {
   "cell_type": "code",
   "execution_count": null,
   "id": "aaa7e0b3",
   "metadata": {
    "scrolled": false
   },
   "outputs": [],
   "source": [
    "TextBlob(\"horrible\").polarity"
   ]
  },
  {
   "cell_type": "code",
   "execution_count": null,
   "id": "4992747d",
   "metadata": {
    "scrolled": true
   },
   "outputs": [],
   "source": [
    "TextBlob(\"awesome\").polarity"
   ]
  },
  {
   "cell_type": "markdown",
   "id": "9bd947cd",
   "metadata": {},
   "source": [
    "**Question**\n",
    "\n",
    "How does the polarity change when we combine these words?"
   ]
  },
  {
   "cell_type": "code",
   "execution_count": null,
   "id": "6f7a270e",
   "metadata": {},
   "outputs": [],
   "source": [
    "TextBlob(\"happy awesome\").polarity"
   ]
  },
  {
   "cell_type": "code",
   "execution_count": null,
   "id": "7f0cac13",
   "metadata": {
    "scrolled": false
   },
   "outputs": [],
   "source": [
    "TextBlob(\"happy horrible\").polarity\n",
    "#-0.1"
   ]
  },
  {
   "cell_type": "markdown",
   "id": "9e350a08",
   "metadata": {},
   "source": [
    "**Question** \n",
    "\n",
    "Try to think of a word that will give a polarity of 0."
   ]
  },
  {
   "cell_type": "code",
   "execution_count": null,
   "id": "56a1b660",
   "metadata": {
    "scrolled": false
   },
   "outputs": [],
   "source": [
    "TextBlob(\"\").polarity"
   ]
  },
  {
   "cell_type": "markdown",
   "id": "ea9cbb62",
   "metadata": {},
   "source": [
    "How do 0-polarity words affect the output?"
   ]
  },
  {
   "cell_type": "code",
   "execution_count": null,
   "id": "1ed65dcb",
   "metadata": {
    "scrolled": true
   },
   "outputs": [],
   "source": [
    "#How do 0-polarity words affect the output?\n",
    "TextBlob(\"happy\").polarity"
   ]
  },
  {
   "cell_type": "markdown",
   "id": "d4717760",
   "metadata": {},
   "source": [
    "What happens with negation? What about other modifiers, like \"very\"?"
   ]
  },
  {
   "cell_type": "code",
   "execution_count": null,
   "id": "4482ed81",
   "metadata": {},
   "outputs": [],
   "source": [
    "TextBlob(\"not\").polarity"
   ]
  },
  {
   "cell_type": "code",
   "execution_count": null,
   "id": "5996c380",
   "metadata": {
    "scrolled": true
   },
   "outputs": [],
   "source": [
    "TextBlob(\"not happy\").polarity"
   ]
  },
  {
   "cell_type": "code",
   "execution_count": null,
   "id": "5f9c780d",
   "metadata": {
    "scrolled": true
   },
   "outputs": [],
   "source": [
    "TextBlob(\"isn't happy\").polarity"
   ]
  },
  {
   "cell_type": "code",
   "execution_count": null,
   "id": "9b7193b8",
   "metadata": {
    "scrolled": true
   },
   "outputs": [],
   "source": [
    "TextBlob(\"very happy\").polarity"
   ]
  },
  {
   "cell_type": "code",
   "execution_count": null,
   "id": "cf46c542",
   "metadata": {
    "scrolled": true
   },
   "outputs": [],
   "source": [
    "TextBlob(\"not very happy\").polarity"
   ]
  },
  {
   "cell_type": "code",
   "execution_count": null,
   "id": "235433be",
   "metadata": {},
   "outputs": [],
   "source": [
    "TextBlob(\"very not happy\")"
   ]
  },
  {
   "cell_type": "markdown",
   "id": "dde22b54",
   "metadata": {},
   "source": [
    "## Using TextBlob methods"
   ]
  },
  {
   "cell_type": "code",
   "execution_count": null,
   "id": "8f662d26",
   "metadata": {},
   "outputs": [],
   "source": [
    "song_of_myself = open(\"song_of_myself.txt\", encoding=\"utf-8\").read()"
   ]
  },
  {
   "cell_type": "code",
   "execution_count": null,
   "id": "87bdda0a",
   "metadata": {},
   "outputs": [],
   "source": [
    "from textblob import TextBlob\n",
    "whitman_blob = TextBlob(song_of_myself)"
   ]
  },
  {
   "cell_type": "markdown",
   "id": "295a3c9a",
   "metadata": {},
   "source": [
    "**Question**: \n",
    "\n",
    "What do `.words` and `.sentences` output?"
   ]
  },
  {
   "cell_type": "code",
   "execution_count": null,
   "id": "b1035f39",
   "metadata": {
    "scrolled": true
   },
   "outputs": [],
   "source": [
    "whitman_blob.words[:30]"
   ]
  },
  {
   "cell_type": "code",
   "execution_count": null,
   "id": "e4632a6f",
   "metadata": {
    "scrolled": true
   },
   "outputs": [],
   "source": [
    "whitman_blob.sentences[:10]"
   ]
  },
  {
   "cell_type": "markdown",
   "id": "0778f138",
   "metadata": {},
   "source": [
    "Recall what the `.join()` method does. What does `' '.join(sentence.words))` give? The reason we are doing that is because we want to convert each sentence into a plain old string, not the fancy `Sentence` object that TextBlob creates."
   ]
  },
  {
   "cell_type": "code",
   "execution_count": null,
   "id": "518987b7",
   "metadata": {},
   "outputs": [],
   "source": [
    "whitman_sentences = []\n",
    "whitman_polarities = []\n",
    "whitman_subjectivities = []\n",
    "\n",
    "whitman_sentences_blob = whitman_blob.sentences\n",
    "\n",
    "for sentence in whitman_sentences_blob:\n",
    "    whitman_sentences.append(' '.join(sentence.words))\n",
    "    whitman_polarities.append(sentence.polarity)\n",
    "    whitman_subjectivities.append(sentence.subjectivity)"
   ]
  },
  {
   "cell_type": "code",
   "execution_count": null,
   "id": "7ce72135",
   "metadata": {
    "scrolled": true
   },
   "outputs": [],
   "source": [
    "print(whitman_sentences[:7])"
   ]
  },
  {
   "cell_type": "code",
   "execution_count": null,
   "id": "77ce51fc",
   "metadata": {
    "scrolled": true
   },
   "outputs": [],
   "source": [
    "whitman_blob.sentiment"
   ]
  },
  {
   "cell_type": "markdown",
   "id": "02c44f45",
   "metadata": {},
   "source": [
    "Now we can create a dataframe using the lists we just created."
   ]
  },
  {
   "cell_type": "code",
   "execution_count": null,
   "id": "9a199f9e",
   "metadata": {},
   "outputs": [],
   "source": [
    "import pandas as pd\n",
    "whitman_df = pd.DataFrame({\n",
    "    'sentence': whitman_sentences,\n",
    "    'polarity': whitman_polarities,\n",
    "    'subjectivity': whitman_subjectivities\n",
    "})\n",
    "\n",
    "whitman_df"
   ]
  },
  {
   "cell_type": "markdown",
   "id": "d2459d87",
   "metadata": {},
   "source": [
    "**Question:**\n",
    "\n",
    "How can I change the line \n",
    "\n",
    "`whitman_df.sort_values(by='polarity', ascending = True)`\n",
    "\n",
    "to obtain only the 10 sentences with the highest polarity? \n",
    "\n",
    "*Hint: How do you slice a list? The syntax for slicing a dataframe is the same.*\n",
    "\n",
    "\n",
    "What about the 10 sentences with the lowest polarity? \n",
    "\n",
    "*Hint: You need to change the `ascending` parameter.*\n",
    "\n",
    "What about the 10 sentences with highest *subjectivity*?\n",
    "\n",
    "*Hint: You need to change the `by` parameter.*"
   ]
  },
  {
   "cell_type": "code",
   "execution_count": null,
   "id": "3121c1ea",
   "metadata": {},
   "outputs": [],
   "source": [
    "#The following line allows us the output to display the full sentence. \n",
    "pd.set_option('display.max_colwidth', 0)\n",
    "\n",
    "\n",
    "whitman_df.sort_values(by='polarity', ascending = True)"
   ]
  },
  {
   "cell_type": "code",
   "execution_count": null,
   "id": "05ee59d9",
   "metadata": {},
   "outputs": [],
   "source": [
    "whitman_df[['polarity']].plot(kind='line', figsize=(10,5))"
   ]
  },
  {
   "cell_type": "code",
   "execution_count": null,
   "id": "a3ebf49e",
   "metadata": {},
   "outputs": [],
   "source": [
    "#How can we use this to calculate a TTR?\n",
    "whitman_blob.word_counts"
   ]
  }
 ],
 "metadata": {
  "kernelspec": {
   "display_name": "Python 3 (ipykernel)",
   "language": "python",
   "name": "python3"
  },
  "language_info": {
   "codemirror_mode": {
    "name": "ipython",
    "version": 3
   },
   "file_extension": ".py",
   "mimetype": "text/x-python",
   "name": "python",
   "nbconvert_exporter": "python",
   "pygments_lexer": "ipython3",
   "version": "3.11.6"
  }
 },
 "nbformat": 4,
 "nbformat_minor": 5
}
