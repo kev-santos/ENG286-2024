{
 "cells": [
  {
   "cell_type": "markdown",
   "id": "0f353ac5",
   "metadata": {},
   "source": [
    "## The ``merge`` function\n",
    "Let's experiment with the ``merge`` function.\n",
    "\n",
    "I will create two different dataframes, ``fruits_df`` and ``fruits_alt_df``:"
   ]
  },
  {
   "cell_type": "code",
   "execution_count": 5,
   "id": "853d0846",
   "metadata": {},
   "outputs": [
    {
     "data": {
      "text/html": [
       "<div>\n",
       "<style scoped>\n",
       "    .dataframe tbody tr th:only-of-type {\n",
       "        vertical-align: middle;\n",
       "    }\n",
       "\n",
       "    .dataframe tbody tr th {\n",
       "        vertical-align: top;\n",
       "    }\n",
       "\n",
       "    .dataframe thead th {\n",
       "        text-align: right;\n",
       "    }\n",
       "</style>\n",
       "<table border=\"1\" class=\"dataframe\">\n",
       "  <thead>\n",
       "    <tr style=\"text-align: right;\">\n",
       "      <th></th>\n",
       "      <th>Name</th>\n",
       "      <th>Name length</th>\n",
       "      <th>Colour</th>\n",
       "    </tr>\n",
       "  </thead>\n",
       "  <tbody>\n",
       "    <tr>\n",
       "      <th>0</th>\n",
       "      <td>apple</td>\n",
       "      <td>5</td>\n",
       "      <td>red</td>\n",
       "    </tr>\n",
       "    <tr>\n",
       "      <th>1</th>\n",
       "      <td>banana</td>\n",
       "      <td>6</td>\n",
       "      <td>yellow</td>\n",
       "    </tr>\n",
       "    <tr>\n",
       "      <th>2</th>\n",
       "      <td>blueberry</td>\n",
       "      <td>9</td>\n",
       "      <td>blue</td>\n",
       "    </tr>\n",
       "    <tr>\n",
       "      <th>3</th>\n",
       "      <td>mango</td>\n",
       "      <td>5</td>\n",
       "      <td>orange</td>\n",
       "    </tr>\n",
       "  </tbody>\n",
       "</table>\n",
       "</div>"
      ],
      "text/plain": [
       "        Name  Name length  Colour\n",
       "0      apple            5     red\n",
       "1     banana            6  yellow\n",
       "2  blueberry            9    blue\n",
       "3      mango            5  orange"
      ]
     },
     "execution_count": 5,
     "metadata": {},
     "output_type": "execute_result"
    }
   ],
   "source": [
    "import pandas as pd\n",
    "fruit_data = [[\"apple\", 5, \"red\"], [\"banana\", 6, \"yellow\"], [\"blueberry\", 9, \"blue\"], [\"mango\", 5, \"orange\"]]\n",
    "fruits_df = pd.DataFrame(fruit_data, columns=[\"Name\", \"Name length\", \"Colour\"])\n",
    "fruits_df"
   ]
  },
  {
   "cell_type": "code",
   "execution_count": 6,
   "id": "d35c7311",
   "metadata": {
    "scrolled": false
   },
   "outputs": [
    {
     "data": {
      "text/html": [
       "<div>\n",
       "<style scoped>\n",
       "    .dataframe tbody tr th:only-of-type {\n",
       "        vertical-align: middle;\n",
       "    }\n",
       "\n",
       "    .dataframe tbody tr th {\n",
       "        vertical-align: top;\n",
       "    }\n",
       "\n",
       "    .dataframe thead th {\n",
       "        text-align: right;\n",
       "    }\n",
       "</style>\n",
       "<table border=\"1\" class=\"dataframe\">\n",
       "  <thead>\n",
       "    <tr style=\"text-align: right;\">\n",
       "      <th></th>\n",
       "      <th>Name</th>\n",
       "      <th>Alt Colour</th>\n",
       "    </tr>\n",
       "  </thead>\n",
       "  <tbody>\n",
       "    <tr>\n",
       "      <th>0</th>\n",
       "      <td>apple</td>\n",
       "      <td>green</td>\n",
       "    </tr>\n",
       "    <tr>\n",
       "      <th>1</th>\n",
       "      <td>banana</td>\n",
       "      <td>brown</td>\n",
       "    </tr>\n",
       "    <tr>\n",
       "      <th>2</th>\n",
       "      <td>blueberry</td>\n",
       "      <td>purple</td>\n",
       "    </tr>\n",
       "    <tr>\n",
       "      <th>3</th>\n",
       "      <td>mango</td>\n",
       "      <td>green</td>\n",
       "    </tr>\n",
       "  </tbody>\n",
       "</table>\n",
       "</div>"
      ],
      "text/plain": [
       "        Name Alt Colour\n",
       "0      apple      green\n",
       "1     banana      brown\n",
       "2  blueberry     purple\n",
       "3      mango      green"
      ]
     },
     "execution_count": 6,
     "metadata": {},
     "output_type": "execute_result"
    }
   ],
   "source": [
    "fruits_alt_data = [[\"apple\", \"green\"], [\"banana\", \"brown\"], [\"blueberry\", \"purple\"], [\"mango\", \"green\"]]\n",
    "fruits_alt_df = pd.DataFrame(fruits_alt_data, columns = [\"Name\", \"Alt Colour\"])\n",
    "fruits_alt_df"
   ]
  },
  {
   "cell_type": "markdown",
   "id": "d11dcb29",
   "metadata": {},
   "source": [
    "### Question\n",
    "\n",
    "I want to add the Alt Colour column in ``fruits_alt_df`` to ``fruits_df``. How can I do this using the merge function?\n",
    "\n",
    "Modify the following line of code from lecture:\n",
    "\n",
    "``ttr_df = pd.merge(overall_ttr_df, standardized_ttr_df, on=\"Text\")``\n",
    "\n",
    "to merge ``fruits_alt_df`` with ``fruits_df``, then store the result in a variable called ``fruits_merged_df``.\n",
    "\n",
    "(What do we need to put in the ``on`` parameter?)"
   ]
  },
  {
   "cell_type": "code",
   "execution_count": null,
   "id": "3c5765c0",
   "metadata": {
    "scrolled": true
   },
   "outputs": [],
   "source": [
    "\n",
    "fruits_merged_df"
   ]
  },
  {
   "cell_type": "markdown",
   "id": "b2f6e17e",
   "metadata": {},
   "source": [
    "### Question\n",
    "\n",
    "Let's observe what happens if we add extra rows. Now ``fruits_alt_df`` has more rows than ``fruits_df``. After we merge them, what happened to the extra rows that were added?"
   ]
  },
  {
   "cell_type": "code",
   "execution_count": 7,
   "id": "a6bffd24",
   "metadata": {},
   "outputs": [
    {
     "data": {
      "text/html": [
       "<div>\n",
       "<style scoped>\n",
       "    .dataframe tbody tr th:only-of-type {\n",
       "        vertical-align: middle;\n",
       "    }\n",
       "\n",
       "    .dataframe tbody tr th {\n",
       "        vertical-align: top;\n",
       "    }\n",
       "\n",
       "    .dataframe thead th {\n",
       "        text-align: right;\n",
       "    }\n",
       "</style>\n",
       "<table border=\"1\" class=\"dataframe\">\n",
       "  <thead>\n",
       "    <tr style=\"text-align: right;\">\n",
       "      <th></th>\n",
       "      <th>Name</th>\n",
       "      <th>Alt Colour</th>\n",
       "    </tr>\n",
       "  </thead>\n",
       "  <tbody>\n",
       "    <tr>\n",
       "      <th>0</th>\n",
       "      <td>apple</td>\n",
       "      <td>green</td>\n",
       "    </tr>\n",
       "    <tr>\n",
       "      <th>1</th>\n",
       "      <td>banana</td>\n",
       "      <td>brown</td>\n",
       "    </tr>\n",
       "    <tr>\n",
       "      <th>2</th>\n",
       "      <td>blueberry</td>\n",
       "      <td>purple</td>\n",
       "    </tr>\n",
       "    <tr>\n",
       "      <th>3</th>\n",
       "      <td>mango</td>\n",
       "      <td>green</td>\n",
       "    </tr>\n",
       "    <tr>\n",
       "      <th>4</th>\n",
       "      <td>avocado</td>\n",
       "      <td>brown</td>\n",
       "    </tr>\n",
       "    <tr>\n",
       "      <th>5</th>\n",
       "      <td>grape</td>\n",
       "      <td>green</td>\n",
       "    </tr>\n",
       "  </tbody>\n",
       "</table>\n",
       "</div>"
      ],
      "text/plain": [
       "        Name Alt Colour\n",
       "0      apple      green\n",
       "1     banana      brown\n",
       "2  blueberry     purple\n",
       "3      mango      green\n",
       "4    avocado      brown\n",
       "5      grape      green"
      ]
     },
     "execution_count": 7,
     "metadata": {},
     "output_type": "execute_result"
    }
   ],
   "source": [
    "fruits_alt_data = [[\"apple\", \"green\"], [\"banana\", \"brown\"], [\"blueberry\", \"purple\"],\n",
    "                   [\"mango\", \"green\"],[\"avocado\", \"brown\"], [\"grape\", \"green\"]]\n",
    "                   \n",
    "fruits_alt_df = pd.DataFrame(fruits_alt_data, columns = [\"Name\", \"Alt Colour\"])\n",
    "fruits_alt_df"
   ]
  },
  {
   "cell_type": "code",
   "execution_count": 8,
   "id": "38035219",
   "metadata": {
    "scrolled": true
   },
   "outputs": [
    {
     "data": {
      "text/html": [
       "<div>\n",
       "<style scoped>\n",
       "    .dataframe tbody tr th:only-of-type {\n",
       "        vertical-align: middle;\n",
       "    }\n",
       "\n",
       "    .dataframe tbody tr th {\n",
       "        vertical-align: top;\n",
       "    }\n",
       "\n",
       "    .dataframe thead th {\n",
       "        text-align: right;\n",
       "    }\n",
       "</style>\n",
       "<table border=\"1\" class=\"dataframe\">\n",
       "  <thead>\n",
       "    <tr style=\"text-align: right;\">\n",
       "      <th></th>\n",
       "      <th>Name</th>\n",
       "      <th>Name length</th>\n",
       "      <th>Colour</th>\n",
       "      <th>Alt Colour</th>\n",
       "    </tr>\n",
       "  </thead>\n",
       "  <tbody>\n",
       "    <tr>\n",
       "      <th>0</th>\n",
       "      <td>apple</td>\n",
       "      <td>5</td>\n",
       "      <td>red</td>\n",
       "      <td>green</td>\n",
       "    </tr>\n",
       "    <tr>\n",
       "      <th>1</th>\n",
       "      <td>banana</td>\n",
       "      <td>6</td>\n",
       "      <td>yellow</td>\n",
       "      <td>brown</td>\n",
       "    </tr>\n",
       "    <tr>\n",
       "      <th>2</th>\n",
       "      <td>blueberry</td>\n",
       "      <td>9</td>\n",
       "      <td>blue</td>\n",
       "      <td>purple</td>\n",
       "    </tr>\n",
       "    <tr>\n",
       "      <th>3</th>\n",
       "      <td>mango</td>\n",
       "      <td>5</td>\n",
       "      <td>orange</td>\n",
       "      <td>green</td>\n",
       "    </tr>\n",
       "  </tbody>\n",
       "</table>\n",
       "</div>"
      ],
      "text/plain": [
       "        Name  Name length  Colour Alt Colour\n",
       "0      apple            5     red      green\n",
       "1     banana            6  yellow      brown\n",
       "2  blueberry            9    blue     purple\n",
       "3      mango            5  orange      green"
      ]
     },
     "execution_count": 8,
     "metadata": {},
     "output_type": "execute_result"
    }
   ],
   "source": [
    "fruits_merged_df = pd.merge(fruits_df, fruits_alt_df, on=\"Name\")\n",
    "fruits_merged_df"
   ]
  },
  {
   "cell_type": "markdown",
   "id": "925a1ad5",
   "metadata": {},
   "source": [
    "### Question\n",
    "If we check the [pandas documentation](https://pandas.pydata.org/docs/reference/api/pandas.DataFrame.merge.html), we see that we can input extra parameters, such as the \"how\" argument. Try running the below cells, then try to understand how they work!"
   ]
  },
  {
   "cell_type": "code",
   "execution_count": null,
   "id": "a6986572",
   "metadata": {
    "scrolled": false
   },
   "outputs": [],
   "source": [
    "fruits_merged_df = pd.merge(fruits_df, fruits_alt_df, on=\"Name\", how=\"outer\")\n",
    "fruits_merged_df"
   ]
  },
  {
   "cell_type": "code",
   "execution_count": null,
   "id": "7eb0fdcc",
   "metadata": {},
   "outputs": [],
   "source": [
    "fruits_merged_df = pd.merge(fruits_df, fruits_alt_df, how=\"cross\")\n",
    "fruits_merged_df"
   ]
  },
  {
   "cell_type": "markdown",
   "id": "aa5fb4e4",
   "metadata": {},
   "source": [
    "## The ``.groupby()`` method\n",
    "Now let's work with a real example. "
   ]
  },
  {
   "cell_type": "code",
   "execution_count": null,
   "id": "425e6340",
   "metadata": {
    "scrolled": true
   },
   "outputs": [],
   "source": [
    "import pandas as pd\n",
    "\n",
    "checkouts_df = pd.read_csv('seattle_checkouts.csv')\n",
    "checkouts_df"
   ]
  },
  {
   "cell_type": "markdown",
   "id": "af06ae87",
   "metadata": {},
   "source": [
    "Let's try to find the creators whose works were checked out the most in April 2020. "
   ]
  },
  {
   "cell_type": "code",
   "execution_count": 9,
   "id": "7d04bff6",
   "metadata": {},
   "outputs": [
    {
     "data": {
      "text/plain": [
       "Creator\n",
       "James Patterson              370\n",
       "Daisy Meadows                219\n",
       "Agatha Christie              211\n",
       "Gertrude  Chandler Warner    174\n",
       "Geronimo Stilton             172\n",
       "Mary Pope Osborne            170\n",
       "Stephen King                 168\n",
       "Louis L'Amour                167\n",
       "Nora Roberts                 158\n",
       "Erin Hunter                  152\n",
       "Dan Gutman                   147\n",
       "M. C. Beaton                 144\n",
       "Stuart Woods                 144\n",
       "Stan Berenstain              136\n",
       "DK                           131\n",
       "Robert B. Parker             120\n",
       "Janet Evanovich              116\n",
       "Clive Cussler                116\n",
       "J. A. Jance                  112\n",
       "Debbie Macomber              111\n",
       "Name: count, dtype: int64"
      ]
     },
     "execution_count": 9,
     "metadata": {},
     "output_type": "execute_result"
    }
   ],
   "source": [
    "#Why does this not accurately portray the creators whose works were checked out the most?\n",
    "checkouts_df['Creator'].value_counts()[:20]"
   ]
  },
  {
   "cell_type": "markdown",
   "id": "225d2e60",
   "metadata": {},
   "source": [
    "We can use the ``.groupby()`` and ``.sum()`` method.\n",
    "\n",
    "### Question\n",
    "\n",
    "First, I want to group by the Creator column.\n",
    "\n",
    "What do I need to add to this to group by creator?"
   ]
  },
  {
   "cell_type": "code",
   "execution_count": null,
   "id": "21eb73cc",
   "metadata": {
    "scrolled": true
   },
   "outputs": [],
   "source": [
    "checkouts_grouped_creator = checkouts_df.groupby()"
   ]
  },
  {
   "cell_type": "markdown",
   "id": "a79e1cce",
   "metadata": {},
   "source": [
    "We can't see the resulting groupby object, but we can check some of its info by applying methods, like `.size()`."
   ]
  },
  {
   "cell_type": "code",
   "execution_count": null,
   "id": "81cea235",
   "metadata": {},
   "outputs": [],
   "source": [
    "checkouts_grouped_creator.size()"
   ]
  },
  {
   "cell_type": "markdown",
   "id": "a047788d",
   "metadata": {},
   "source": [
    "Now, to add together the checkouts corresponding to each creator, I can use the `.sum()` method!"
   ]
  },
  {
   "cell_type": "code",
   "execution_count": null,
   "id": "d800ebda",
   "metadata": {
    "scrolled": true
   },
   "outputs": [],
   "source": [
    "checkouts_grouped_summed_df = checkouts_df.groupby(['Creator']).sum()\n",
    "checkouts_grouped_summed_df[:20]"
   ]
  },
  {
   "cell_type": "markdown",
   "id": "a813788b",
   "metadata": {},
   "source": [
    "**Question:** Now I select just the Checkouts column from the dataframe `checkouts_grouped_summed_df`. Add to the cell below:"
   ]
  },
  {
   "cell_type": "code",
   "execution_count": null,
   "id": "902a0bee",
   "metadata": {
    "scrolled": true
   },
   "outputs": [],
   "source": [
    "checkouts_grouped_summed_df['Checkouts']"
   ]
  },
  {
   "cell_type": "markdown",
   "id": "06931dc6",
   "metadata": {},
   "source": [
    "Now I can find the ten authors with the most checkouts in total, using the `.nlargest()` method!\n",
    "\n",
    "**Question:** What would I need to change to get the top *20* most checked out authors?"
   ]
  },
  {
   "cell_type": "code",
   "execution_count": null,
   "id": "9e588682",
   "metadata": {},
   "outputs": [],
   "source": [
    "top_10_creators = checkouts_grouped_summed_df[[\"Checkouts\"]].nlargest(10, columns=\"Checkouts\")\n",
    "top_10_creators"
   ]
  },
  {
   "cell_type": "markdown",
   "id": "e9110f15",
   "metadata": {},
   "source": [
    "... And plot the result!"
   ]
  },
  {
   "cell_type": "code",
   "execution_count": null,
   "id": "1e1bfa9c",
   "metadata": {},
   "outputs": [],
   "source": [
    "top_10_creators.plot(kind='bar', figsize=(10, 5), title='10 Most Checked-Out Creators')"
   ]
  },
  {
   "cell_type": "markdown",
   "id": "cbb5b62c",
   "metadata": {},
   "source": [
    "# Grouping multiple columns"
   ]
  },
  {
   "cell_type": "markdown",
   "id": "3a1295fd",
   "metadata": {},
   "source": [
    "We can also try to compare statistics for different periods of time. "
   ]
  },
  {
   "cell_type": "markdown",
   "id": "72128435",
   "metadata": {},
   "source": [
    "``seattle_checkouts_2020.csv`` contains all the checkout data over 2020.\n",
    "\n",
    "**You can download more Seattle public library data at [this link](https://data.seattle.gov/Community/SPL-Checkouts-2018-2022/cz4y-bvp5). (You can filter by e.g. year, then click the export button to download the filtered data.)**"
   ]
  },
  {
   "cell_type": "code",
   "execution_count": 1,
   "id": "2db736ce",
   "metadata": {},
   "outputs": [],
   "source": [
    "import pandas as pd\n",
    "checkouts2020_df = pd.read_csv('seattle_checkouts_2020.csv')\n",
    "checkouts2020_df"
   ]
  },
  {
   "cell_type": "markdown",
   "id": "3a2e4f26",
   "metadata": {},
   "source": [
    "### Question\n",
    "\n",
    "I want to find data on the prevalence of each material type being checked out in each month. First, group ``checkouts2020_df`` by checkout month, then by material type. Then, apply the `.size()` and `.unstack(fill_value=0)` methods as seen in lecture. Store the result in a variable called `material_types_per_month_df`."
   ]
  },
  {
   "cell_type": "code",
   "execution_count": null,
   "id": "b3feb6d5",
   "metadata": {},
   "outputs": [],
   "source": [
    "checkouts2020_df.groupby()"
   ]
  },
  {
   "cell_type": "code",
   "execution_count": null,
   "id": "6991494f",
   "metadata": {},
   "outputs": [],
   "source": [
    "#Now, isolate the most relevant columns\n",
    "material_types_per_month_df[]"
   ]
  },
  {
   "cell_type": "code",
   "execution_count": null,
   "id": "568b031c",
   "metadata": {},
   "outputs": [],
   "source": [
    "#Make a chart!\n",
    "material_types_per_month_df[].plot(kind='bar', \\\n",
    "                                   figsize=(10, 5), \\\n",
    "                                   xlabel = 'Checkout Month',  \\\n",
    "                                   title='Material Types Checked Out in 2020', \\\n",
    "                                   color=[\"gainsboro\", \"pink\", \"darkgoldenrod\", \"midnightblue\", \"mediumpurple\"])"
   ]
  },
  {
   "cell_type": "markdown",
   "id": "82eeb8eb",
   "metadata": {},
   "source": [
    "**Chart colours**\n",
    "\n",
    "In the above chart, we specified a *list* of colours to use with the extra parameter `color=[\"gainsboro\", \"pink\", \"darkgoldenrod\", \"midnightblue\", \"mediumpurple\"]`\n",
    "\n",
    "List of named colors:\n",
    "https://matplotlib.org/stable/gallery/color/named_colors.html\n",
    "\n",
    "You can also use hex codes, e.g. `'#fa8702'`\n",
    "https://htmlcolorcodes.com/"
   ]
  }
 ],
 "metadata": {
  "kernelspec": {
   "display_name": "Python 3 (ipykernel)",
   "language": "python",
   "name": "python3"
  },
  "language_info": {
   "codemirror_mode": {
    "name": "ipython",
    "version": 3
   },
   "file_extension": ".py",
   "mimetype": "text/x-python",
   "name": "python",
   "nbconvert_exporter": "python",
   "pygments_lexer": "ipython3",
   "version": "3.11.6"
  }
 },
 "nbformat": 4,
 "nbformat_minor": 5
}
